{
 "cells": [
  {
   "cell_type": "code",
   "execution_count": 12,
   "metadata": {},
   "outputs": [],
   "source": [
    "from pathlib import Path\n",
    "import fitz\n",
    "import re"
   ]
  },
  {
   "cell_type": "code",
   "execution_count": 28,
   "metadata": {},
   "outputs": [],
   "source": [
    "path = Path('../../ocr-projects/projects/buzzi/data/bmjopen-2016-011025_Proof_hi.pdf')\n",
    "page_range = range(23, 64)\n",
    "out_file = \"bmjopen-2016-011025_Proof_hi.pdf-refs.pdf\"\n",
    "\n",
    "assert path.exists()\n",
    "doc = fitz.open(path)\n",
    "\n",
    "omit_pattern = re.compile(r\"for peer review only\", re.IGNORECASE)\n",
    "omit_pattern2 = re.compile(r\"bmj open\", re.IGNORECASE)\n",
    "omit_pattern3 = re.compile(r\"page\\s+\\d+\\s+of\\s+\\d+\", re.IGNORECASE)\n",
    "omit_pattern4 = re.compile(r\"^\\s*\\d+\\s*$\", re.MULTILINE)\n",
    "\n",
    "\n",
    "doc2 = fitz.Document()\n",
    "for i in page_range:\n",
    "    page = doc[i]\n",
    "    new_page = doc2.new_page(\n",
    "        -1, width=page.rect.width, height=page.rect.height,\n",
    "    )\n",
    "    page_dict = page.get_text(\"dict\", sort=False)\n",
    "    for block in page_dict['blocks'][:-1]:\n",
    "        if \"lines\" not in block:\n",
    "            continue\n",
    "        for line in block['lines']:\n",
    "            for span in line['spans']:\n",
    "                bbox = span['bbox']\n",
    "                size = span['size']\n",
    "                font = span['font']\n",
    "                text = span['text']\n",
    "                match = omit_pattern.search(text)\n",
    "                if match:\n",
    "                    continue\n",
    "                match = omit_pattern2.search(text)\n",
    "                if match:\n",
    "                    continue\n",
    "                match = omit_pattern3.search(text)\n",
    "                if match:\n",
    "                    continue\n",
    "                match = omit_pattern4.search(text)\n",
    "                if match:\n",
    "                    continue\n",
    "                # print(f\"writing {text} at {bbox} with {size} and {font}\")\n",
    "                res = new_page.insert_textbox(\n",
    "                    fitz.Rect(bbox[0], bbox[1], bbox[2], bbox[3]), \n",
    "                    text, \n",
    "                    fontsize=size, \n",
    "                    fontname=\"times-roman\"\n",
    "                )\n",
    "                if res < 0:\n",
    "                    res = new_page.insert_textbox(\n",
    "                        fitz.Rect(bbox[0], bbox[1], bbox[2]-res, bbox[3]-res), \n",
    "                        text, \n",
    "                        fontsize=size, \n",
    "                        fontname=\"times-roman\"\n",
    "                    )\n",
    "\n",
    "doc2.save(out_file)"
   ]
  },
  {
   "cell_type": "code",
   "execution_count": null,
   "metadata": {},
   "outputs": [],
   "source": []
  }
 ],
 "metadata": {
  "kernelspec": {
   "display_name": "pdf-extract",
   "language": "python",
   "name": "python3"
  },
  "language_info": {
   "codemirror_mode": {
    "name": "ipython",
    "version": 3
   },
   "file_extension": ".py",
   "mimetype": "text/x-python",
   "name": "python",
   "nbconvert_exporter": "python",
   "pygments_lexer": "ipython3",
   "version": "3.11.5"
  },
  "orig_nbformat": 4
 },
 "nbformat": 4,
 "nbformat_minor": 2
}
