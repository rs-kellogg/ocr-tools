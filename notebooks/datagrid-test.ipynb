{
 "cells": [
  {
   "cell_type": "code",
   "execution_count": 30,
   "id": "1d54d158-2ecb-466a-9b4f-19bcbd959bae",
   "metadata": {
    "tags": []
   },
   "outputs": [],
   "source": [
    "import py2vega\n",
    "import polars as pl\n",
    "import pandas as pd\n",
    "from pathlib import Path\n",
    "from py2vega.functions.regexp import regexp, test\n",
    "from ipydatagrid import Expr, DataGrid, TextRenderer, BarRenderer, VegaExpr\n",
    "import inspect"
   ]
  },
  {
   "cell_type": "code",
   "execution_count": 31,
   "id": "a80d6aed-7c52-43a4-afc4-a1b98d6bb833",
   "metadata": {
    "tags": []
   },
   "outputs": [],
   "source": [
    "DATA_DIR = Path(\"../review-portal/review_portal/public\")"
   ]
  },
  {
   "cell_type": "code",
   "execution_count": 58,
   "id": "4e0aff1d-066f-4c99-b249-44c74b731c1c",
   "metadata": {
    "tags": []
   },
   "outputs": [],
   "source": [
    "def background_color_factory():\n",
    "    background_df = pl.read_csv(\n",
    "        DATA_DIR / \"background.csv\",\n",
    "        schema={\"pattern\": pl.Utf8, \"color\": pl.Utf8},\n",
    "    )\n",
    "    value = \"\"\n",
    "    for row in background_df.rows(named=True):\n",
    "        if row['pattern'] == \"\":\n",
    "            value += f\"{row['color']}{')'*(len(background_df)-1)}\"\n",
    "            break\n",
    "        value += f\"if(test('{row['pattern']}', cell.value), '{row['color']}',\\n\"\n",
    "        \n",
    "    return VegaExpr(value=value)"
   ]
  },
  {
   "cell_type": "code",
   "execution_count": 59,
   "id": "d7d8e934-86d9-4e08-8c08-b498ae221892",
   "metadata": {
    "tags": []
   },
   "outputs": [
    {
     "data": {
      "application/vnd.jupyter.widget-view+json": {
       "model_id": "a309e254385e4ffca86683bcaa8e934d",
       "version_major": 2,
       "version_minor": 0
      },
      "text/plain": [
       "DataGrid(auto_fit_params={'area': 'all', 'padding': 30, 'numCols': None}, base_column_size=120, base_row_size=…"
      ]
     },
     "metadata": {},
     "output_type": "display_data"
    }
   ],
   "source": [
    "renderer = TextRenderer(\n",
    "    text_wrap=True,\n",
    "    text_color=\"black\",\n",
    "    background_color=background_color_factory(),\n",
    ")\n",
    "\n",
    "\n",
    "df = pd.read_csv(DATA_DIR/\"csv/page-0705-1.csv\", index_col=0)\n",
    "grid = DataGrid(\n",
    "    dataframe=df,\n",
    "    editable=True,\n",
    "    layout={\"height\": f\"1000px\", \"overflow_y\": \"auto\"},\n",
    "    base_row_size=30,\n",
    "    base_column_size=120,\n",
    "    default_renderer=renderer,\n",
    ")\n",
    "display(grid)"
   ]
  },
  {
   "cell_type": "code",
   "execution_count": null,
   "id": "e6b9ddc3-db50-47b8-b909-6960abab3007",
   "metadata": {},
   "outputs": [],
   "source": []
  }
 ],
 "metadata": {
  "kernelspec": {
   "display_name": "Python 3 (ipykernel)",
   "language": "python",
   "name": "python3"
  },
  "language_info": {
   "codemirror_mode": {
    "name": "ipython",
    "version": 3
   },
   "file_extension": ".py",
   "mimetype": "text/x-python",
   "name": "python",
   "nbconvert_exporter": "python",
   "pygments_lexer": "ipython3",
   "version": "3.11.5"
  }
 },
 "nbformat": 4,
 "nbformat_minor": 5
}
