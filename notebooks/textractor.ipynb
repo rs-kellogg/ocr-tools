{
 "cells": [
  {
   "cell_type": "code",
   "execution_count": 12,
   "metadata": {},
   "outputs": [],
   "source": [
    "from textractor import Textractor\n",
    "from textractor.data.constants import TextractFeatures\n",
    "from textractor.entities.document import Document\n",
    "from pathlib import Path\n",
    "from rich import print\n",
    "import json"
   ]
  },
  {
   "cell_type": "code",
   "execution_count": 34,
   "metadata": {},
   "outputs": [
    {
     "data": {
      "text/html": [
       "<pre style=\"white-space:pre;overflow-x:auto;line-height:normal;font-family:Menlo,'DejaVu Sans Mono',consolas,'Courier New',monospace\">Found <span style=\"color: #008080; text-decoration-color: #008080; font-weight: bold\">198</span> png files\n",
       "</pre>\n"
      ],
      "text/plain": [
       "Found \u001b[1;36m198\u001b[0m png files\n"
      ]
     },
     "metadata": {},
     "output_type": "display_data"
    },
    {
     "data": {
      "text/html": [
       "<pre style=\"white-space:pre;overflow-x:auto;line-height:normal;font-family:Menlo,'DejaVu Sans Mono',consolas,'Courier New',monospace\">First file: page-<span style=\"color: #008080; text-decoration-color: #008080; font-weight: bold\">006.</span>png\n",
       "</pre>\n"
      ],
      "text/plain": [
       "First file: page-\u001b[1;36m006.\u001b[0mpng\n"
      ]
     },
     "metadata": {},
     "output_type": "display_data"
    },
    {
     "data": {
      "text/html": [
       "<pre style=\"white-space:pre;overflow-x:auto;line-height:normal;font-family:Menlo,'DejaVu Sans Mono',consolas,'Courier New',monospace\">Page <span style=\"color: #008080; text-decoration-color: #008080; font-weight: bold\">13</span> file: page-<span style=\"color: #008080; text-decoration-color: #008080; font-weight: bold\">013.</span>png\n",
       "</pre>\n"
      ],
      "text/plain": [
       "Page \u001b[1;36m13\u001b[0m file: page-\u001b[1;36m013.\u001b[0mpng\n"
      ]
     },
     "metadata": {},
     "output_type": "display_data"
    }
   ],
   "source": [
    "png_path = Path(\n",
    "    \"/Users/williamthompson/Code/kellogg/ocr-projects/projects/kotra/data/1969/png\")\n",
    "assert png_path.exists()\n",
    "png_files = list(png_path.glob(\"*.png\"))\n",
    "png_files.sort()\n",
    "print(f\"Found {len(png_files)} png files\")\n",
    "print(f\"First file: {png_files[0].name}\")\n",
    "print(f\"Page 13 file: {png_files[7].name}\")"
   ]
  },
  {
   "cell_type": "code",
   "execution_count": 3,
   "metadata": {},
   "outputs": [],
   "source": [
    "extractor = Textractor(profile_name=\"default\")"
   ]
  },
  {
   "cell_type": "markdown",
   "metadata": {},
   "source": [
    "## Synchronous Example"
   ]
  },
  {
   "cell_type": "code",
   "execution_count": 35,
   "metadata": {},
   "outputs": [],
   "source": [
    "document = extractor.detect_document_text(str(png_files[7]))"
   ]
  },
  {
   "cell_type": "code",
   "execution_count": 36,
   "metadata": {},
   "outputs": [
    {
     "data": {
      "text/plain": [
       "'Dong Ryung Moolsan\\n7\\nChung Kum Products\\n8\\nDai Duck Ind. Co\\n4\\nKoramar Sang Sa Ltd. Seoul\\n11\\nTae Un Tdg. Co.\\n30\\nTotal\\n1,384\\nPlastic\\nDong-A PharmerCeutical\\n3\\n1. Charles Tucker Corp. N.Y.\\nArtificial\\nFlower\\nHan Dok Remedia\\n4\\nKorea Art. Flower Mfg.\\n10\\n1.\\nNorman Ind. Inc. 2850 Leonis Blvd. Los Angels\\nCalif. (3)\\n2. Air Rofresber Co., , 2638 Nicholson St. San\\nLeandro Calif\\nSung Moon Ind. Co.\\n3\\nBaik Su Pharm Co.\\n1\\n1. Belichen Paper Co. , Inc N.Y.\\nKosung Ind. Co.\\n1\\nKyong Su Ind. Co,\\n2\\nTotal\\n24\\nOther\\nYoo Poong Luggage Mfg\\n4\\n1. Albert E Price Inc. 235. North Third Philadelphia\\nPlastic\\nInwha Co.\\n3\\n1. Flambro Imports Inc. U.S.A. (Georgia) (2)\\n2. K. Yamada Distributors Ltd. 747. Unin St.\\nHonolulu Hawaii 96819 (2)\\nDae Young Nong San Co.\\n1\\n1. Band Wagon Inc. 401 Summer St. . Hoston\\nMassachusetts 02210\\n- 8 -'"
      ]
     },
     "execution_count": 36,
     "metadata": {},
     "output_type": "execute_result"
    }
   ],
   "source": [
    "document.text"
   ]
  },
  {
   "cell_type": "markdown",
   "metadata": {},
   "source": [
    "## Asynchronous Example"
   ]
  },
  {
   "cell_type": "code",
   "execution_count": 37,
   "metadata": {},
   "outputs": [],
   "source": [
    "document2 = extractor.start_document_analysis(\n",
    "    str(png_files[7]),\n",
    "    features=[TextractFeatures.TABLES],\n",
    "    s3_upload_path=\"s3://kellogg-ocr/temp/\",\n",
    ")"
   ]
  },
  {
   "cell_type": "code",
   "execution_count": 38,
   "metadata": {},
   "outputs": [
    {
     "data": {
      "text/plain": [
       "'\\n\\n\\tDong Ryung Moolsan\\t7\\t\\n\\tChung Kum Products\\t8\\t\\n\\tDai Duck Ind. Co\\t4\\t\\n\\tKoramar Sang Sa Ltd. Seoul\\t11\\t\\n\\tTae Un Tdg. Co.\\t30\\t\\n\\tTotal\\t1,384\\t\\nPlastic\\tDong-A PharmerCeutical\\t3\\t1. Charles Tucker Corp. N.Y.\\nArtificial Flower\\tHan Dok Remedia\\t4\\t\\n\\tKorea Art. Flower Mfg.\\t10\\t1. Norman Ind. Inc. 2850 Leonis Blvd. Los Angels Calif. (3)\\n\\t\\t\\t2. Air Rofresber Co., , 2638 Nicholson St. San Leandro Calif\\n\\tSung Moon Ind. Co.\\t3\\t\\n\\tBaik Su Pharm Co.\\t1\\t1. Belichen Paper Co , Inc N.Y.\\n\\tKosung Ind. Co.\\t1\\t\\n\\tKyong Su Ind. Co,\\t2\\t\\n\\tTotal\\t24\\t\\nOther Plastic\\tYoo Poong Luggage Mfg\\t4\\t1. Albert E Price Inc. 235. North Third Philadelphia\\n\\tInwha Co.\\t3\\t1. Flambro Imports Inc. U.S.A. (Georgia) (2) 2. K. Yamada Distributors Ltd. 747. Unin St. Honolulu Hawaii 96819 (2)\\n\\tDae Young Nong San Co.\\t1\\t1. Band Wagon Inc. 401 Summer St. . Hoston Massachusetts 02210\\n\\n\\n- 8 -'"
      ]
     },
     "execution_count": 38,
     "metadata": {},
     "output_type": "execute_result"
    }
   ],
   "source": [
    "document2.text"
   ]
  },
  {
   "cell_type": "code",
   "execution_count": 18,
   "metadata": {},
   "outputs": [
    {
     "data": {
      "text/plain": [
       "[Table\n",
       " Rows - 20\n",
       " Columns - 4\n",
       " Cells - 80\n",
       " Merged Cells - 46]"
      ]
     },
     "execution_count": 18,
     "metadata": {},
     "output_type": "execute_result"
    }
   ],
   "source": [
    "document2.tables"
   ]
  },
  {
   "cell_type": "markdown",
   "metadata": {},
   "source": [
    "## Restore from File"
   ]
  },
  {
   "cell_type": "code",
   "execution_count": 39,
   "metadata": {},
   "outputs": [],
   "source": [
    "Path(\"doc.json\").write_text(json.dumps(document2.response, indent=4, sort_keys=True))\n",
    "document3 = Document.open(\"doc.json\")"
   ]
  },
  {
   "cell_type": "code",
   "execution_count": 40,
   "metadata": {},
   "outputs": [
    {
     "data": {
      "text/plain": [
       "This document holds the following data:\n",
       "Pages - 1\n",
       "Words - 153\n",
       "Lines - 53\n",
       "Key-values - 0\n",
       "Checkboxes - 0\n",
       "Tables - 1\n",
       "Queries - 0\n",
       "Signatures - 0\n",
       "Identity Documents - 0\n",
       "Expense Documents - 0"
      ]
     },
     "execution_count": 40,
     "metadata": {},
     "output_type": "execute_result"
    }
   ],
   "source": [
    "document3"
   ]
  },
  {
   "cell_type": "code",
   "execution_count": 41,
   "metadata": {},
   "outputs": [
    {
     "data": {
      "text/html": [
       "<div>\n",
       "<style scoped>\n",
       "    .dataframe tbody tr th:only-of-type {\n",
       "        vertical-align: middle;\n",
       "    }\n",
       "\n",
       "    .dataframe tbody tr th {\n",
       "        vertical-align: top;\n",
       "    }\n",
       "\n",
       "    .dataframe thead th {\n",
       "        text-align: right;\n",
       "    }\n",
       "</style>\n",
       "<table border=\"1\" class=\"dataframe\">\n",
       "  <thead>\n",
       "    <tr style=\"text-align: right;\">\n",
       "      <th></th>\n",
       "      <th>0</th>\n",
       "      <th>1</th>\n",
       "      <th>2</th>\n",
       "      <th>3</th>\n",
       "    </tr>\n",
       "  </thead>\n",
       "  <tbody>\n",
       "    <tr>\n",
       "      <th>0</th>\n",
       "      <td></td>\n",
       "      <td>Dong Ryung Moolsan</td>\n",
       "      <td>7</td>\n",
       "      <td></td>\n",
       "    </tr>\n",
       "    <tr>\n",
       "      <th>1</th>\n",
       "      <td></td>\n",
       "      <td>Chung Kum Products</td>\n",
       "      <td>8</td>\n",
       "      <td></td>\n",
       "    </tr>\n",
       "    <tr>\n",
       "      <th>2</th>\n",
       "      <td></td>\n",
       "      <td>Dai Duck Ind. Co</td>\n",
       "      <td>4</td>\n",
       "      <td></td>\n",
       "    </tr>\n",
       "    <tr>\n",
       "      <th>3</th>\n",
       "      <td></td>\n",
       "      <td>Koramar Sang Sa Ltd. Seoul</td>\n",
       "      <td>11</td>\n",
       "      <td></td>\n",
       "    </tr>\n",
       "    <tr>\n",
       "      <th>4</th>\n",
       "      <td></td>\n",
       "      <td>Tae Un Tdg. Co.</td>\n",
       "      <td>30</td>\n",
       "      <td></td>\n",
       "    </tr>\n",
       "    <tr>\n",
       "      <th>5</th>\n",
       "      <td></td>\n",
       "      <td>Total</td>\n",
       "      <td>1,384</td>\n",
       "      <td></td>\n",
       "    </tr>\n",
       "    <tr>\n",
       "      <th>6</th>\n",
       "      <td>Plastic</td>\n",
       "      <td>Dong-A PharmerCeutical</td>\n",
       "      <td>3</td>\n",
       "      <td>1. Charles Tucker Corp. N.Y.</td>\n",
       "    </tr>\n",
       "    <tr>\n",
       "      <th>7</th>\n",
       "      <td>Artificial Flower</td>\n",
       "      <td>Han Dok Remedia</td>\n",
       "      <td>4</td>\n",
       "      <td></td>\n",
       "    </tr>\n",
       "    <tr>\n",
       "      <th>8</th>\n",
       "      <td></td>\n",
       "      <td>Korea Art. Flower Mfg.</td>\n",
       "      <td>10</td>\n",
       "      <td>1. Norman Ind. Inc. 2850 Leonis Blvd. Los Ange...</td>\n",
       "    </tr>\n",
       "    <tr>\n",
       "      <th>9</th>\n",
       "      <td></td>\n",
       "      <td></td>\n",
       "      <td></td>\n",
       "      <td>2. Air Rofresber Co., , 2638 Nicholson St. San...</td>\n",
       "    </tr>\n",
       "    <tr>\n",
       "      <th>10</th>\n",
       "      <td></td>\n",
       "      <td>Sung Moon Ind. Co.</td>\n",
       "      <td>3</td>\n",
       "      <td></td>\n",
       "    </tr>\n",
       "    <tr>\n",
       "      <th>11</th>\n",
       "      <td></td>\n",
       "      <td>Baik Su Pharm Co.</td>\n",
       "      <td>1</td>\n",
       "      <td>1. Belichen Paper Co , Inc N.Y.</td>\n",
       "    </tr>\n",
       "    <tr>\n",
       "      <th>12</th>\n",
       "      <td></td>\n",
       "      <td>Kosung Ind. Co.</td>\n",
       "      <td>1</td>\n",
       "      <td></td>\n",
       "    </tr>\n",
       "    <tr>\n",
       "      <th>13</th>\n",
       "      <td></td>\n",
       "      <td>Kyong Su Ind. Co,</td>\n",
       "      <td>2</td>\n",
       "      <td></td>\n",
       "    </tr>\n",
       "    <tr>\n",
       "      <th>14</th>\n",
       "      <td></td>\n",
       "      <td>Total</td>\n",
       "      <td>24</td>\n",
       "      <td></td>\n",
       "    </tr>\n",
       "    <tr>\n",
       "      <th>15</th>\n",
       "      <td>Other Plastic</td>\n",
       "      <td>Yoo Poong Luggage Mfg</td>\n",
       "      <td>4</td>\n",
       "      <td>1. Albert E Price Inc. 235. North Third Philad...</td>\n",
       "    </tr>\n",
       "    <tr>\n",
       "      <th>16</th>\n",
       "      <td></td>\n",
       "      <td>Inwha Co.</td>\n",
       "      <td>3</td>\n",
       "      <td>1. Flambro Imports Inc. U.S.A. (Georgia) (2) 2...</td>\n",
       "    </tr>\n",
       "    <tr>\n",
       "      <th>17</th>\n",
       "      <td></td>\n",
       "      <td>Dae Young Nong San Co.</td>\n",
       "      <td>1</td>\n",
       "      <td>1. Band Wagon Inc. 401 Summer St. . Hoston Mas...</td>\n",
       "    </tr>\n",
       "  </tbody>\n",
       "</table>\n",
       "</div>"
      ],
      "text/plain": [
       "                    0                           1      2  \\\n",
       "0                              Dong Ryung Moolsan      7   \n",
       "1                              Chung Kum Products      8   \n",
       "2                                Dai Duck Ind. Co      4   \n",
       "3                      Koramar Sang Sa Ltd. Seoul     11   \n",
       "4                                 Tae Un Tdg. Co.     30   \n",
       "5                                           Total  1,384   \n",
       "6             Plastic      Dong-A PharmerCeutical      3   \n",
       "7   Artificial Flower             Han Dok Remedia      4   \n",
       "8                          Korea Art. Flower Mfg.     10   \n",
       "9                                                          \n",
       "10                             Sung Moon Ind. Co.      3   \n",
       "11                              Baik Su Pharm Co.      1   \n",
       "12                                Kosung Ind. Co.      1   \n",
       "13                              Kyong Su Ind. Co,      2   \n",
       "14                                          Total     24   \n",
       "15      Other Plastic       Yoo Poong Luggage Mfg      4   \n",
       "16                                      Inwha Co.      3   \n",
       "17                         Dae Young Nong San Co.      1   \n",
       "\n",
       "                                                    3  \n",
       "0                                                      \n",
       "1                                                      \n",
       "2                                                      \n",
       "3                                                      \n",
       "4                                                      \n",
       "5                                                      \n",
       "6                        1. Charles Tucker Corp. N.Y.  \n",
       "7                                                      \n",
       "8   1. Norman Ind. Inc. 2850 Leonis Blvd. Los Ange...  \n",
       "9   2. Air Rofresber Co., , 2638 Nicholson St. San...  \n",
       "10                                                     \n",
       "11                    1. Belichen Paper Co , Inc N.Y.  \n",
       "12                                                     \n",
       "13                                                     \n",
       "14                                                     \n",
       "15  1. Albert E Price Inc. 235. North Third Philad...  \n",
       "16  1. Flambro Imports Inc. U.S.A. (Georgia) (2) 2...  \n",
       "17  1. Band Wagon Inc. 401 Summer St. . Hoston Mas...  "
      ]
     },
     "execution_count": 41,
     "metadata": {},
     "output_type": "execute_result"
    }
   ],
   "source": [
    "document3.tables[0].to_pandas()"
   ]
  },
  {
   "cell_type": "code",
   "execution_count": 30,
   "metadata": {},
   "outputs": [
    {
     "data": {
      "text/html": [
       "<pre style=\"white-space:pre;overflow-x:auto;line-height:normal;font-family:Menlo,'DejaVu Sans Mono',consolas,'Courier New',monospace\"><span style=\"font-weight: bold\">(</span>U.S.A.<span style=\"font-weight: bold\">)</span>\n",
       "\n",
       "\n",
       "Commodity       Exporters       Grand Total <span style=\"font-weight: bold\">(</span><span style=\"color: #008080; text-decoration-color: #008080; font-weight: bold\">1</span>-<span style=\"color: #008080; text-decoration-color: #008080; font-weight: bold\">10</span><span style=\"font-weight: bold\">)</span>      Importers\n",
       "Living Fish     Kyong Su Ind. Co.       <span style=\"color: #008080; text-decoration-color: #008080; font-weight: bold\">1</span>       \n",
       "        Total   <span style=\"color: #008080; text-decoration-color: #008080; font-weight: bold\">1</span>       \n",
       "Tuna    Korean Marine Dev. Ind. <span style=\"color: #008080; text-decoration-color: #008080; font-weight: bold\">2.187</span>   <span style=\"color: #008080; text-decoration-color: #008080; font-weight: bold\">1</span>. Marubeni - Iida <span style=\"font-weight: bold\">(</span>Am<span style=\"font-weight: bold\">)</span> Ind. Los Angeles. Calif.\n",
       "                        <span style=\"color: #008080; text-decoration-color: #008080; font-weight: bold\">2</span>. Star-Kist Samoa Inc. Pago Pago American Samoa <span style=\"font-weight: bold\">(</span><span style=\"color: #008080; text-decoration-color: #008080; font-weight: bold\">3</span><span style=\"font-weight: bold\">)</span>\n",
       "                        <span style=\"color: #008080; text-decoration-color: #008080; font-weight: bold\">3</span>. C - Itoh &amp; Co., , <span style=\"font-weight: bold\">(</span>America<span style=\"font-weight: bold\">)</span> Inc. <span style=\"color: #008080; text-decoration-color: #008080; font-weight: bold\">245</span> Park Ave. N.Y.\n",
       "                        <span style=\"color: #008080; text-decoration-color: #008080; font-weight: bold\">4</span>. Pacific Fishing Co. Ltd. Suva Fiji <span style=\"font-weight: bold\">(</span><span style=\"color: #008080; text-decoration-color: #008080; font-weight: bold\">3</span><span style=\"font-weight: bold\">)</span>\n",
       "                        <span style=\"color: #008080; text-decoration-color: #008080; font-weight: bold\">5</span>. Mitsui &amp; Co. Ltd U.S.A. <span style=\"color: #008080; text-decoration-color: #008080; font-weight: bold\">200</span> Park Ave. N.Y. <span style=\"color: #008080; text-decoration-color: #008080; font-weight: bold\">10017</span>.\n",
       "        Jedong Ind. Co. <span style=\"color: #008080; text-decoration-color: #008080; font-weight: bold\">594</span>     <span style=\"color: #008080; text-decoration-color: #008080; font-weight: bold\">1</span>. Van Camp Sea Food Division Relston Purina Co. Terminal Island. Calif <span style=\"font-weight: bold\">(</span><span style=\"color: #008080; text-decoration-color: #008080; font-weight: bold\">3</span><span style=\"font-weight: bold\">)</span>\n",
       "                        <span style=\"color: #008080; text-decoration-color: #008080; font-weight: bold\">2</span>. Ivissri - Iwai American Corp. <span style=\"color: #008080; text-decoration-color: #008080; font-weight: bold\">110</span> wall St. N.Y.\n",
       "        Korea Wonyang Fisheries <span style=\"color: #008080; text-decoration-color: #008080; font-weight: bold\">788</span>     <span style=\"color: #008080; text-decoration-color: #008080; font-weight: bold\">1</span>. Star - Kist Foods Inc. Terminal Calif.\n",
       "                        <span style=\"color: #008080; text-decoration-color: #008080; font-weight: bold\">2</span>. Mitsui &amp; Co. <span style=\"font-weight: bold\">(</span>U.S.A.<span style=\"font-weight: bold\">)</span> Inc. N.Y.\n",
       "                        <span style=\"color: #008080; text-decoration-color: #008080; font-weight: bold\">3</span>. Korea Wonyang Fisheries Co. Ltd. Pago Pago Samoa.\n",
       "                        <span style=\"color: #008080; text-decoration-color: #008080; font-weight: bold\">4</span>. Tosho Ku Ltd. N.Y. Branch Mitsui &amp; Co. Inc. Calif <span style=\"font-weight: bold\">(</span><span style=\"color: #008080; text-decoration-color: #008080; font-weight: bold\">4</span><span style=\"font-weight: bold\">)</span>\n",
       "        Tong Wha Co.    <span style=\"color: #008080; text-decoration-color: #008080; font-weight: bold\">228</span>     <span style=\"color: #008080; text-decoration-color: #008080; font-weight: bold\">1</span>. Mitsui &amp; Co. <span style=\"font-weight: bold\">(</span>U.S.A.<span style=\"font-weight: bold\">)</span> Inc. 510W - 6th. St. LosAngeles\n",
       "                        <span style=\"color: #008080; text-decoration-color: #008080; font-weight: bold\">2</span>. Star Kist Foods Inc. <span style=\"color: #008080; text-decoration-color: #008080; font-weight: bold\">582</span>. Tuna. St. Terminal Island Calif.\n",
       "        Kong Heung Ind. Co.     <span style=\"color: #008080; text-decoration-color: #008080; font-weight: bold\">9</span>       l. Van Camp Sea Food Division Relston Purina Co. Terminal Island. Calif\n",
       "        Korea Fishery Co.       <span style=\"color: #008080; text-decoration-color: #008080; font-weight: bold\">110</span>     \n",
       "        Wha Yang Ind. Co        <span style=\"color: #008080; text-decoration-color: #008080; font-weight: bold\">102</span>     <span style=\"color: #008080; text-decoration-color: #008080; font-weight: bold\">1</span>. Van Camp Sea Food Division Relston Purina Co. Terminal Island Calif \n",
       "<span style=\"color: #008080; text-decoration-color: #008080; font-weight: bold\">90731</span> <span style=\"font-weight: bold\">(</span><span style=\"color: #008080; text-decoration-color: #008080; font-weight: bold\">3</span><span style=\"font-weight: bold\">)</span>\n",
       "                        <span style=\"color: #008080; text-decoration-color: #008080; font-weight: bold\">2</span>. Taiyo Cyogyo Kabushiki Kaisha Tokyo <span style=\"font-weight: bold\">(</span><span style=\"color: #008080; text-decoration-color: #008080; font-weight: bold\">2</span><span style=\"font-weight: bold\">)</span>\n",
       "\n",
       "\n",
       "- l -\n",
       "</pre>\n"
      ],
      "text/plain": [
       "\u001b[1m(\u001b[0mU.S.A.\u001b[1m)\u001b[0m\n",
       "\n",
       "\n",
       "Commodity       Exporters       Grand Total \u001b[1m(\u001b[0m\u001b[1;36m1\u001b[0m-\u001b[1;36m10\u001b[0m\u001b[1m)\u001b[0m      Importers\n",
       "Living Fish     Kyong Su Ind. Co.       \u001b[1;36m1\u001b[0m       \n",
       "        Total   \u001b[1;36m1\u001b[0m       \n",
       "Tuna    Korean Marine Dev. Ind. \u001b[1;36m2.187\u001b[0m   \u001b[1;36m1\u001b[0m. Marubeni - Iida \u001b[1m(\u001b[0mAm\u001b[1m)\u001b[0m Ind. Los Angeles. Calif.\n",
       "                        \u001b[1;36m2\u001b[0m. Star-Kist Samoa Inc. Pago Pago American Samoa \u001b[1m(\u001b[0m\u001b[1;36m3\u001b[0m\u001b[1m)\u001b[0m\n",
       "                        \u001b[1;36m3\u001b[0m. C - Itoh & Co., , \u001b[1m(\u001b[0mAmerica\u001b[1m)\u001b[0m Inc. \u001b[1;36m245\u001b[0m Park Ave. N.Y.\n",
       "                        \u001b[1;36m4\u001b[0m. Pacific Fishing Co. Ltd. Suva Fiji \u001b[1m(\u001b[0m\u001b[1;36m3\u001b[0m\u001b[1m)\u001b[0m\n",
       "                        \u001b[1;36m5\u001b[0m. Mitsui & Co. Ltd U.S.A. \u001b[1;36m200\u001b[0m Park Ave. N.Y. \u001b[1;36m10017\u001b[0m.\n",
       "        Jedong Ind. Co. \u001b[1;36m594\u001b[0m     \u001b[1;36m1\u001b[0m. Van Camp Sea Food Division Relston Purina Co. Terminal Island. Calif \u001b[1m(\u001b[0m\u001b[1;36m3\u001b[0m\u001b[1m)\u001b[0m\n",
       "                        \u001b[1;36m2\u001b[0m. Ivissri - Iwai American Corp. \u001b[1;36m110\u001b[0m wall St. N.Y.\n",
       "        Korea Wonyang Fisheries \u001b[1;36m788\u001b[0m     \u001b[1;36m1\u001b[0m. Star - Kist Foods Inc. Terminal Calif.\n",
       "                        \u001b[1;36m2\u001b[0m. Mitsui & Co. \u001b[1m(\u001b[0mU.S.A.\u001b[1m)\u001b[0m Inc. N.Y.\n",
       "                        \u001b[1;36m3\u001b[0m. Korea Wonyang Fisheries Co. Ltd. Pago Pago Samoa.\n",
       "                        \u001b[1;36m4\u001b[0m. Tosho Ku Ltd. N.Y. Branch Mitsui & Co. Inc. Calif \u001b[1m(\u001b[0m\u001b[1;36m4\u001b[0m\u001b[1m)\u001b[0m\n",
       "        Tong Wha Co.    \u001b[1;36m228\u001b[0m     \u001b[1;36m1\u001b[0m. Mitsui & Co. \u001b[1m(\u001b[0mU.S.A.\u001b[1m)\u001b[0m Inc. 510W - 6th. St. LosAngeles\n",
       "                        \u001b[1;36m2\u001b[0m. Star Kist Foods Inc. \u001b[1;36m582\u001b[0m. Tuna. St. Terminal Island Calif.\n",
       "        Kong Heung Ind. Co.     \u001b[1;36m9\u001b[0m       l. Van Camp Sea Food Division Relston Purina Co. Terminal Island. Calif\n",
       "        Korea Fishery Co.       \u001b[1;36m110\u001b[0m     \n",
       "        Wha Yang Ind. Co        \u001b[1;36m102\u001b[0m     \u001b[1;36m1\u001b[0m. Van Camp Sea Food Division Relston Purina Co. Terminal Island Calif \n",
       "\u001b[1;36m90731\u001b[0m \u001b[1m(\u001b[0m\u001b[1;36m3\u001b[0m\u001b[1m)\u001b[0m\n",
       "                        \u001b[1;36m2\u001b[0m. Taiyo Cyogyo Kabushiki Kaisha Tokyo \u001b[1m(\u001b[0m\u001b[1;36m2\u001b[0m\u001b[1m)\u001b[0m\n",
       "\n",
       "\n",
       "- l -\n"
      ]
     },
     "metadata": {},
     "output_type": "display_data"
    }
   ],
   "source": [
    "print(document3.text)"
   ]
  },
  {
   "cell_type": "code",
   "execution_count": null,
   "metadata": {},
   "outputs": [],
   "source": []
  }
 ],
 "metadata": {
  "kernelspec": {
   "display_name": "ocr-tools",
   "language": "python",
   "name": "python3"
  },
  "language_info": {
   "codemirror_mode": {
    "name": "ipython",
    "version": 3
   },
   "file_extension": ".py",
   "mimetype": "text/x-python",
   "name": "python",
   "nbconvert_exporter": "python",
   "pygments_lexer": "ipython3",
   "version": "3.11.5"
  }
 },
 "nbformat": 4,
 "nbformat_minor": 2
}
