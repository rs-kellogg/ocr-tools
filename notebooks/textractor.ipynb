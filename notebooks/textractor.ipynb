{
 "cells": [
  {
   "cell_type": "code",
   "execution_count": 13,
   "metadata": {},
   "outputs": [],
   "source": [
    "from textractor import Textractor\n",
    "from textractor.data.constants import TextractFeatures\n",
    "from textractor.entities.document import Document\n",
    "from pathlib import Path\n",
    "from rich import print\n",
    "import json"
   ]
  },
  {
   "cell_type": "code",
   "execution_count": 14,
   "metadata": {},
   "outputs": [],
   "source": [
    "extractor = Textractor(profile_name=\"default\")"
   ]
  },
  {
   "cell_type": "markdown",
   "metadata": {},
   "source": [
    "## Asynchronous Example"
   ]
  },
  {
   "cell_type": "code",
   "execution_count": 15,
   "metadata": {},
   "outputs": [],
   "source": [
    "document = extractor.start_document_analysis(\n",
    "    \"../temp/ginnieIssuers.pdf\",\n",
    "    features=[TextractFeatures.TABLES],\n",
    "    s3_upload_path=\"s3://kellogg-ocr/temp/\",\n",
    ")"
   ]
  },
  {
   "cell_type": "code",
   "execution_count": 16,
   "metadata": {},
   "outputs": [
    {
     "data": {
      "text/plain": [
       "\"Ginnie Mae\\n\\n\\nOur Guaranty Matters\\n\\n\\nAll Ginnie Mae-Approved Single-Family Issuers\\n\\n\\n\\n\\nIssuer\\tAddress\\tIssuer ID\\n1st Security Bank of Washington\\t6920 220th Street SW Mountlake Terrace, WA 98043 (425) 697-8119\\t4292\\n1st Source Bank\\t100 North Michigan Street Suite 800 South Bend, IN 46601 (574) 237-5328\\t1909\\nAcademy Mortgage Corporation\\t339 West 13490South Draper, UT 84020 (801) 233-3764\\t4302\\nAcopia, LLC\\t306 Northcreek Boulevard Suite 100 Goodlettsville, TN 37072 (615) 859-5537\\t4257\\nAlabama Housing Finance Authority\\t7460 Halcyon Pointe Drive Suite 200 Montgomery, AL 36117 (334) 244-9200\\t3977\\nAllied Mortgage Group, Inc.\\t7 Bala Avenue Suite 108 Bala Cynwyd, PA 19004 (610) 660-4728\\t4386\\nAMCAP Mortgage, LTD\\t9999 Bellaire Boulevard Suite 700 Houston, TX 77036 (712) 425-3065\\t4285\\n\\n\\n\\n\\n\\nAmerican Financial Network DBA MGM Funding\\t10 Pointe Drive Suite 330 Brea, CA 92821 (909) 606-3905\\t4278\\nAmerican Financial Resources, Inc.\\t9 Sylvan Way Parsippany, NJ 07054 (973) 983-5626\\t4034\\nAmerican Neighborhood Mortgage Acceptance Company\\t700 East Gate Drive Suite 400 Mount Laurel, NJ 08054 (856) 252-1831\\t4283\\nAmerican Pacific Mortgage Corporation\\t3000 Lava Ridge Court Suite 200 Roseville, CA 95661 (916) 960-1294\\t4217\\nAmeriFirst Financial, Inc.\\t1550 East McKellips Road Suite 117 Mesa, AZ 85203 (480) 339-1824\\t4402\\nAmerihome Mortgage Company, LLC\\t1 Baxter Way Suite 300 Westlake Village, CA 91362 (747) 800-4235\\t3359\\nAmeris Bank\\t1800 Parkway Place Suite 820 Marietta, GA 30067 (770) 578-3615\\t4383\\nAmerisave Mortgage Corporation\\t1200 Altmore Avenue Building 2 Suite 300 Sandy Springs, GA 30342 (404) 260-7581\\t4247\\nAm West Funding Corp.\\tSix Point Drive Brea, CA 92821\\t4172\\n\\n\\n\\n\\n\\nArc Home LLC\\t4000 Midlantic Drive Suite 102 Laurel, NJ 08054 (215) 360-3805\\t4273\\nARK-LA-TEX Financial Services, LLC\\t5160 Tennyson Parkway Suite 2000W Plano, TX 75024 (972) 398-7676 ext. 113 (972) 398-7613\\t4330\\nArvest Bank\\t921 W. Monroe Street Lowell, AR 72745 (479) 750-6149\\t4329\\nArvest Central Mortgage Company\\t1501 S. Main Street Little Rock, AR 72202 (501) 379-7133\\t3938\\nAssociated Bank, National Association\\t2870 Holmgren Way Green Bay, WI 54304 (904) 491-7532\\t4421\\nAssurance Financial Group, LLC\\t9029 Jefferson Highway Suite 100 Baton Rouge, LA 70809 (225) 448-2666\\t4298\\nAtlantic Bay Morgage Group, LLC\\t600 Lynnhaven Parkway Suite 203 Virginia Beach, VA 23452 (757) 213-1697\\t4294\\nAxia Financial, LLC\\t3009 112th Avenue Northeast Suite 200 Bellevue, WA 98004 (425) 974-2370\\t4309\\nAxos Bank\\t4350 La Jolla Village Drive Suite 140 San Diego, CA 92122 (858) 436-3202\\t4336\\n\\n\\n\\n\\n\\nBanco Popular De Puerto Rico\\t153 Avenue Ponce De Leon San Juan, PR 00901 (787) 647-3010\\t3842\\nBanco Santander Puerto Rico\\tArterial Hostos Avenue Lot 1 And 2 Hato Rey, PR 00919 (787) 281-3520\\t3365\\nBank of America, N.A.\\t101 South Tryon Charlotte, NC 28255 (980) 683-5078\\t2936\\nBank of America, N.A.\\t7105 Corporate Dr., Ptx- Plano, TX 75024 (980) 683-5078\\t3907\\nBank of England\\t5 Statehouse Plaza Suite 300 Little Rock, AK 72201 (501) 687-5451\\t4426\\nBank of Hawaii\\t949 Kamokila Boulevard Suite #342 Kapolei, HI 96707 (808) 693-1358\\t1857\\nBay Equity LLC\\t100 California Street Suite 1100 San Francisco, CA 94111-4561 (415) 632-5150\\t4221\\nBell Bank\\t3800 American Boulevard West Suite 1450 Bloomington, MN 55431 (952) 905-5376\\t4430\\nBethpage Federal Credit Union\\t899 South Oyster Bay Road Bethpage, NY 11510 (516) 688-3163\\t4112\\n\\n\\n\\n\\n\\nBlue Ridge Bank, National Association\\t202 Centreport Drive #150 Greensboro, NC 27409 (336) 931-1222\\t4374\\nBMO Harris Bank N.A.\\t180 Montgomery Street San Francisco, CA 94104 (402) 918-2445\\t3839\\nBMO Harris Bank N.A.\\t1200 East Warrenville Road - 3A127 Naperville, IL 60563 (331) 281-4220\\t4457\\nBoeing Employees' Credit Union\\t12770 Gateway Drive 3rd F1 Mortgage Tukwila, WA 98168\\t4095\\nBOKF, N.A.\\t7060 South Yale Suite 100 Tulsa, OK 74136 (918) 488-7157\\t3774\\nCadence Bank\\t2778 West Jackson Street Building C-2nd Floor Tupelo, MS 38801 (662) 678-7705\\t2265\\nCalCon Mutual Mortgage LLC\\t3838 Camino Del Rio North #305 San Diego, CA 92108 (858) 488-3807\\t4441\\nCaliber Funding, LLC\\t6301 Connecticut Drive Suite 200 Irving, TX 75039 ( 214) 687-5632\\t4214\\nCapital City Home Loans, LLC\\t1255 Lakes Parkway, Building 300 Suite 300 Lawrenceville, GA 30043 (770) 822-6603\\t4342\\n\\n\\n\\n\\n\\nCardinal Financial Company, LP\\t3701 Arco Corporate Drive Suite 200 Charlotte, NC 28273 (877) 721-6866\\t4045\\nCarnegie Mortgage, LLC\\t2301 Campus Drive Suite 100 Irvine, CA 92612\\t4145\\nCarrington Mortgage Services, LLC\\t1600 South Douglas Road Suite 110 & 200-A Anaheim, CA 92806 (949) 517-5062\\t4143\\nCascade Financial Services\\t2701 East Ryan Road Chandler, AZ 85286 (480) 812-3278\\t4006\\nCastle & Cooke Mortgage, LLC\\t4163 Castle & Cooke Mortgage, LLC 13751 South Wadsworth Park Drive Suite 101 Draper, UT 84020 (801) 461-7147\\t4163\\nCastle Mortgage Corporation dba Excelerate Capital\\t19800 MacArthur Blvd Suite 500 Irvine, CA 92612 (949) 617-3984\\t3190\\nCenlar Federal Savings Bank\\t425 Phillips Boulevard Ewing, NJ 08618 (609) 883-3900\\t2813\\nCentral National Bank\\t411 N. National St. Superior, NE 68978 (785) 761-2904\\t3883\\nChange Lending, LLC\\t175 North Riverview Drive Suite C Anaheim, CA 92808 (925) 275-3132\\t4323\\n\\n\\n\\n\\n\\nChemical Bank\\t1736 Gezon Parkway Wyoming, MI 49519 (616) 285-7468\\t4378\\nCherry Creek Mortgage, LLC\\t7600 E. Orchard Road Suite 250-N Greenwood Village, CO 80111 (303) 320-4040\\t3921\\nChickasaw Community Bank\\t909 S. Meridian Suite 100 Oklahoma City, OK 73108 (405) 946-2265\\t3952\\nChurchill Mortgage Corporation\\t1749 Mallory Lane Suite 100 Brentwood, TN 37027 615-767-5291\\t4455\\nCIS Financial Services, Inc.\\t818 Military Street South Hamilton, AL 35570 (205) 921-4814\\t3898\\nCitimortgage, Inc.\\t1000 Technology Drive O'Fallon, MO 63368-2240 (636) 261-1329\\t3886\\nCitizens Bank, N.A.\\t10561 Telegraph Road Glen Allen, VA 23059 (804) 627-4824\\t3266\\nCity Bank Mortgage\\t5219 City Bank Parkway Lubbock, TX 79407 (972) 385-8220\\t4384\\nClick n' Close, Inc.\\t15301 Spectrum Drive Suite 405 Addison, TX 75001 (214) 261-3300\\t1990\\nCMC Funding, Inc.\\t8800 Baymeadows Way West Suite 301 Jacksonville, FL 32256\\t4056\\n\\n\\n\\n\\n\\nCMG Mortgage, Inc.\\t3160 Crow Canyon Road Suite 400 San Ramon, CA 94583\\t4178\\nColonial Savings, F.A.\\t2626 West Freeway Fort Worth, TX 76102 (817) 390-2254\\t1997\\nColorado Housing and Finance Authority\\t1981 Blake Street Denver, CO 80202 (303) 297-7366\\t4043\\nCommerce Bank\\t922 Walnut Mailstop: TB-CM1 Kansas City, MO 64104 (816) 234-2076\\t4370\\nCommerce Mortgage Corporation\\t922 Walnut Suite 1100 Kansas City, MO 64106 (816) 234-2076\\t3765\\nContinental Home Loans, Inc.\\t175 Pinelawn Road Suite 400 Melville, NY 11747\\t4048\\nCornerstone Capital Bank, SSB\\t1177 West Loop South Suite 200 Houston, TX 77027 (713) 212-3062\\t4138\\nCountryplace Mortgage, Ltd.\\t15301 Spectrum Drive Suite 550 Addison, TX 75601 (972) 763-5113\\t4081\\nCredit Union Mortgage Association\\t9693 A Main Street Fairfax, VA 22031 (703) 425-1204\\t3040\\n\\n\\n\\n\\n\\nCrescent Mortgage Company\\t6600 Peachtree Dunwoody Road, NE 600 Embassy Row, Suite 650 Atlanta, GA 30328 (678) 301-2708\\t3960\\nCrosscountry Mortgage, LLC.\\t6850 Miller Road Brecksville, OH 44141-3222 (440) 262-3500\\t4205\\nCrown Mortgage Company\\t6141 95th Street West Oak Lawn, IL 60453 (708) 424-8002\\t2314\\nData Mortgage, Inc DBA Essex Mortgage\\t2100 West Orangewood Avenue Suite 180 Orange, CA 92868 (714) 935-2581\\t4173\\nDelmar Financial Company\\t1066 Executive Parkway 100 St. Louis, MO 63141 (314) 434-7000\\t1962\\nDepartment of Veterans Affairs, State of California DBA CalVet Home Loans\\t1227 O Street Suite 200 Sacramento, CA 95814 (916) 503-8069\\t4387\\nDHI Mortgage Company, Ltd.\\t10700 Pecan Park Boulevard Suite 450 Austin, TX 78750 (512) 502-0545\\t3833\\nDiamond Residential Mortgage Corporation\\t582 Oakwood Avenue Lake Forest, IL 60045 (847) 244-9301\\t4401\\nDirect Mortgage Corporation\\t6955 S. Union Park Center Suite 540 Midvale, UT 84047 (801) 924-2300\\t4075\\n\\n\\n\\n\\n\\nDollar Bank, FSB\\t20 Stanwix 20th Floor Pittsburg, PA 15222 (330) 588-2397\\t4182\\nDovenmuehle Mortgage, Inc.\\tOne Corporate Drive Suite 360 Lake Zurich, IL 60047-8945 (847) 550-7300\\t1746\\nDraper and Kramer Mortgage Corporation\\t1431 Opus Place Suite 200 Downers Grove, IL 60515 (630) 376-0505\\t3697\\nElevations Credit Union\\t1 Environmental Way Broomfield, CO-80021 (303)-443-4672 (Ext. 1032)\\t4465\\nEmbrace Home Loans Inc.\\t25 Enterprise Center Newport, RI 02842 (401) 846-3100\\t4047\\nEMI Equity Mortgage, Inc.\\t1651 Ponce De Leon Ave Equity Plaza Bldg Suite 102 San Juan, PR 00909-1835 (787) 725-1072\\t3940\\nEnvoy Mortgage, Ltd.\\t5100 Westheimer Suite 320 Houston, TX 77056\\t4107\\nEquity Prime Mortgage, LLC\\t5 Concourse Parkway Suite 2250 Atlanta, GA 30328 (678) 205-3554 / ext. 125\\t4393\\nEquity Prime Mortgtage LLC\\t5 Concourse Parkway Suite 2250 Atlanta, GA 30328 (678) 205-3554\\t4393\\n\\n\\n\\n\\n\\nEquity Resources, Inc.\\t25 1/2 South Park Place Newark, OH 43055 (740) 349-7082\\t4295\\nESL Federal Credit Union\\t225 Chestnut Street Rochester, NY 14604 (585) 336-1407\\t4352\\nEverBank, National Association.\\t301 West Bay Street Jacksonville, FL 32202 (904) 245-7254\\t3941\\nEvergreen Moneysource Mortgage\\t915 118th Avenue, SE Suite 300 Bellevue, WA 98005 (425) 974-8500\\t4218\\nEvolve Bank & Trust\\t6070 Poplar Avenue Suite 200 Memphis, TN 38119 (901) 624-5500\\t4308\\nFairway Independent Mortgage Corporation\\t4801 South Biltmore Lane Madison, WI 53718\\t4269\\nFay Servicing, LLC\\t939 West North Avenue Suite 680 Chicago, IL 60642 (312) 780-0450\\t4317\\nFBC Mortgage LLC\\t189 South Orange Avenue Suite 970 Orlando, FL 32801 (407) 872-3383\\t4290\\nFederal Home Loan Bank of Chicago (FHLBC)\\t200 East Randolph Drive Chicago, IL 60601 (312) 616-8645\\t3937\\nFidelity Bank, National Association\\t100 E English Wichita, KS 67202 (316) 265-2261\\t1940\\n\\n\\n\\n\\n\\nFifth Third Bank, National Association\\t38 Fountain Square Cincinnati, OH 45263 (513) 358-8171\\t4413\\nFifth Third Mortgage Company\\t5001 Kingsley Drive Cincinnati, OH 45227 (513) 358-4606\\t3216\\nFinance of America Mortgage LLC\\tOne West Elm Street First Floor Conshohocken, PA 19428 (215) 591-0222\\t4110\\nFirst Advantage Bank\\t1430 Madison Street Clarksville, TN 37041-0688 (615) 552-6176\\t1893\\nFirst Bank DBA First Bank Mortgage\\t1 First Missouri Center St. Louis, MO 63141 (314) 205-3111\\t3556\\nFirst Community Mortgage, Inc.\\t262 Robert Rose Drive Murfreesboro, TN 37129 (615) 896-4141\\t4326\\nFirst Continental Mortgage, Ltd.\\t11011 Richmond Avenue Suite 800 Houston City, TX 77042 (832) 613-9300\\t4155\\nFirst Federal Bank\\t4705 West U.S. Highway 9 Lake City, FL 32055 (386) 755-0600\\t4003\\nFirst Federal Bank\\t2440 Mall Drive Charleston, SC 29406\\t4103\\nFirst Federal Bank of Kansas City\\t11550 Ash Street Suite 300 Leawood, KS 66211 (816) 245-4168\\t4235\\n\\n\\n\\n\\n\\nFirst Federal Bank, A FSB\\t1300 McFarland Boulevard Northeast Tuscaloosa, AL 35406 (205) 391-6700\\t4433\\nFirst Home Mortgage Corporation\\t6211 Greenleigh Avenue SUite 130 Baltimore, MD 21220 (410) 933-3100\\t4357\\nFirst Horizon Bank\\t165 Madison Avenue Memphis, TN 38103 (901) 523-4962\\t4435\\nFirst National Bank of Omaha\\t1620 Dodge Street Attn: Real Estate Div. Omaha, NE 68197 (402) 341-0500\\t2520\\nFirst National Bank of Trenton\\t106 Hamilton Trenton, TX 75490 (972) 837-4919\\t4341\\nFirst United Bank and Trust\\t2805 Dallas Parkway Suite 525 Plano, TX 75093\\t4018\\nFirstBank\\t318 Seaboard Lane Suite 205 Franklin, TN 37067 (615) 778-1486 ext. 1670\\t4343\\nFirstbank Puerto Rico\\t1519 Ponce De Leon Avenue Santurce, PR 00909 (809) 729-8200\\t2217\\nFirstKey Mortgage, LLC\\t4 International Drive Rye Brook, NY 10573 (914) 934-4075\\t4321\\nFlagstar Bank, FSB\\t5151 Corporate Drive Mail Code: E-710-4 Troy, MI 48098 (248) 321-2000\\t3345\\n\\n\\n\\n\\n\\nFlat Branch Mortgage, Inc.\\t204 Corporate Lake Drive Columbia, MO 65203 (573) 397-5250\\t4320\\nFlorida Capital Bank, N.A.\\t10151 Deerwood Park Boulevard 100 Suite 200-A Jacksonville, FL 32256 (904) 245-7097\\t4395\\nFM Home Loans, LLC\\t2329 Nostrand Avenue 3rd Floor Brooklyn, NY 11210 (718) 337-7900\\t4346\\nFreedom Home Mortgage Corporation\\t951 Yamato Road Suite 175 Boca Raton, FL 33431 (317) 537-3311\\t3871\\nGateway Mortgage Corporation\\t6501 Green Bay Road Kenosha, WI 53142 (262) 657-7733\\t4142\\nGateway Mortgage, A Division of Gateway First Bank\\t244 South Gateway Place Jenks, OK 74037-3448 (918) 712-9000\\t4033\\nGITSIT Solutions, LLC\\t333 South Anita Drive Suite 400 Orange, CA 92868-3314 (714) 640-2601\\t4195\\nGlobal Federal Credit Union\\t4000 Credit Union Drive Anchorage, AK 99503 (907) 786-2802\\t2914\\nGMFS, LLC\\t7389 Florida Blvd Suite 200A Baton Rouge, LA 70806 (757) 892-1755\\t4123\\n\\n\\n\\n\\n\\nGo Mortgage, LLC\\t4215 Worth Avenue Suite 320 Columbus, OH 43219 (614) 334-6140\\t4313\\ngoodmortgage.com\\t3325 South Tryon Street Charlotte, NC 28217 (704) 523-3386\\t4276\\nGuaranteed Rate, Inc.\\t3940 North Ravenswood Chicago, IL 60613 (773) 290-0410\\t4240\\nGuardian Mortgage Company, Inc.\\t100 N. Central Expwy. Suite 190 Richardson, TX 75080 (972) 690-1871\\t2304\\nGuild Mortgage Company LLC\\t5887 Copley Drive 1st Floor San Diego, CA 92111 (858) 560-6330\\t1555\\nHallmark Home Mortgage, LLC.\\t7421 Coldwater Road Fort Wayne, IN 46825 (609) 278-7546\\t4288\\nHarborOne Mortgage, LLC\\t650 Elm Street Suite 600 Manchester, NH 03101 (603) 625-1498\\t4152\\nHartford Funding, Ltd\\t100 Crossways Park Drive West Suite 302 Woodbury, NY 11797 (516) 595-7601\\t3121\\nHighland Residential Mortgage, LTD\\t950 West Bethany Drive Suite 800 Allen, TX 75013 (469) 364-7075\\t4327\\n\\n\\n\\n\\n\\nHightech Lending, Inc.\\t2030 Main Street Suite 500 Irvine, CA 92614 949-468-2615\\t4355\\nHome Financing Center, Inc.\\t400 University Drive Suite 300 Coral Gables, FL 33134\\t4137\\nHome Point Financial Corporation\\t157 S Main Street Mansfield, OH 44903 (419) 522-7927\\t2546\\nHome Point Financial Corporation\\t2211 Old Earhart Road Suite 250 Ann Arbor, MI 48105 (972) 598-1535\\t4255\\nHome Point Mortgage Acceptance Corporation\\t11511 Luna Road, Suite 625 Farmers Branch, TX 75234 (256) 258-2404\\t4262\\nHomeAmerican Mortgage Corporation\\t4350 S. Monaco Street Suite 100 Denver, CO 80237 (330) 723-1155\\t2800\\nHomebridge Financial Services, Inc.\\t194 Wood Avenue South, 9th Floor Iselin, NJ 08830 (732) 738-7100\\t4049\\nHomestar Financial Corporation\\t332 Washington Street, Northwest Gainesville, GA 30501 (770) 503-0380\\t4361\\nHomestead Funding Corporation\\t8 Airline Drive Albany, NY 12205 (518) 464-1100\\t3751\\nHomestreet Bank\\t601 Union Street Suite 2000 Seattle, WA 98101-2326 (800) 654-1075\\t3057\\n\\n\\n\\n\\n\\nHometrust Mortgage Company\\t5353 W. Alabama Suite 500 Houston, TX 77056 (713) 369-4002\\t4282\\nHuntington National Bank\\t7575 Huntington Park Drive Columbus, OH 43235 (614) 480-6353\\t3239\\nIberiabank\\t12719 Cantrell Road Suite 200 Little Rock, AR 72223 (501) 537-8430\\t4381\\nIberiaBank\\t12719 Cantrell Road Suite 200 Little Rock, AR 72223 (501) 537-8430\\t4381\\nIberiabank Mortgage Company\\t12719 Cantrell Road Little Rock, AR 72223 (501) 537-8400\\t4345\\nIdaho Housing and Finance Association\\t565 Myrtle Street Boise, ID 83702 (208) 331-4726\\t4068\\nIndependent Bank\\t230 West Main Street Ionia, MI 48846 (616) 527-5820\\t4307\\nInspire Home Loans Inc.\\t4695 MacArthur Court Suite 350 Newport Beach, CA 92660 (949) 344-2213\\t4456\\nIntercap Lending Inc. dba Suburban Mortgage Company of New Mexico\\t910 East 6600 South Salt Lake City, UT 84121 (385) 800-8322\\t2454\\n\\n\\n\\n\\n\\nInterlinc Mortgage Services, LLC\\t5875 North Sam Houston Parkway West Suite 300 Houston, TX 77086 (281) 210-5631\\t4256\\nInternational City Mortgage, Inc. dba Doorway Home Loans\\t17875 Von Karman Avenue #117 Irvine, CA 92614 (714) 644-8288\\t4202\\nIowa Bankers Mortgage Corporation\\t8800 NW 62nd Avenue Johnston, IA 50131-6220 (515) 286-4216\\t2450\\niServe Residential Lending, LLC\\t10920 Via Frontera #520 San Diego, CA 92127 (877) 308-4117\\t4181\\nIxonia Bank\\t20935 Swendon Drive Suite 420 Waukesha, WI 53186 (262) 465-6044\\t4460\\nJMAC Lending, Inc.\\t3200 Park Center Drive Suite 350 Costa Mesa, CA 92626 (949) 390-2640\\t4338\\nJP Morgan Chase Bank, N.A.\\t3415 Vision Drive Mail Code: OH4-7258 Columbus, OH 43219-6009\\t3975\\nKentucky Housing Corporation\\t1231 Louisville Road Frankfort, KY 40601 (502) 564-7630\\t4077\\nKey Bank NA\\t127 Public Square Cleveland, OH 44114\\t4418\\nKind Lending, LLC\\t4 Hutton Centre Drive Suite 100 Santa Ana, CA 92707 (714) 844-7700\\t4208\\n\\n\\n\\n\\n\\nKinecta Federal Credit Union\\t1440 Rosecrans Avenue Manhattan Beach, CA 90266-3702 (310) 643-1325\\t4165\\nKirtland Federal Credit Union\\t6440 Gibson Boulevard Albuquerque, NM 87108 (505) 254-7078\\t4243\\nLake Michigan Credit Union\\t4027 Lake Drive Grand Rapids, MI 49546 (800) 242-9790\\t4109\\nLakeview Loan Servicing, LLC\\t4425 Ponce De Leon Blvd Ms 5-251 Coral Gables, FL 33146\\t4150\\nLand Home Financial Services, Inc.\\t1355 Willow Way Suite 250 Concord, CA 94520\\t4171\\nLeaderOne Financial Corporation\\t7500 College Boulevard Suite 1150 Overland Park, KS 66210 (913) 312-5711\\t4226\\nLennar Mortgage, LLC\\t5505 Blue Lagoon Drive Suite 502 Miami, FL 33126 (305) 223-6501\\t2706\\nLiberty Savings Bank, F.S.B.\\t3435 Airborne Road Suite B Wilmington, OH 45177 (937) 382-1000\\t4031\\nLoanCare, LLC\\t3637 Sentara Way Virginia Beach, VA 23452 (757) 630-1675\\t3634\\nloandepot.Com, LLC\\t6561 Irvine Center Drive Irvine, CA 92618 (949) 380-3205\\t4180\\n\\n\\n\\n\\n\\nLower, LLC\\t5950 Symphony Woods Road, Suite 301 Columbia, MD-21044 (443) 741-8153\\t4409\\nM&T Bank\\tOne Fountain Plaza 7th Floor Buffalo, NY 14203 (716) 848-3009\\t3663\\nM/I Financial, LLC\\t3141 Worth Avenue Suite 460 Columbus, OH 43219 (614) 418-8660\\t4116\\nMann Mortgage, LLC\\t1220B Whitefish Stage Road Kalispell, MT 59901\\t4091\\nMason-Mcduffie Mortgage Corporation\\t2430 Camino Ramon Suite 300 San Ramon, CA 94583 (925) 242-4452\\t4164\\nMassachusetts Housing Finance Agency\\tOne Beacon Street Boston, MA 02108 (617) 854-1850\\t4396\\nMB Financial Bank, N.A\\t611 North River Road Rosemont, IL 60018 (847) 653-2330\\t4306\\nMB Financial Bank, N.A.\\t9550 W. Higgins Road Rosemont, IL 60018 (810) 231-4665\\t4209\\nMcCue Mortgage Company\\tOne Liberty Square New Britain, CT 06050 (860) 224-2683\\t3460\\nMcLean Mortgage Corporation\\t11325 Random Hills Road Suite 400 Fairfax, VA 22030 (703) 738-0939\\t4328\\n\\n\\n\\n\\n\\nMeadowbrook Financial Mortgage Bankers Corp.\\t1600 Stewart Avenue Suite 701 Westbury, NY 11590 (516) 360-2639\\t4427\\nMega Capital Funding, Inc.\\t5000 North Parkway Calabasas Suite 100 Calabasas, CA 91302 (818) 657-2600\\t4461\\nMegastar Financial Corporation\\t1080 Cherokee Street Denver, CO 80204 (303) 321-8800\\t4267\\nMember First Mortgage, LLC\\t616 44th Street, SE Grand Rapids, MI 49548-7576 (616) 301-6275\\t4176\\nMembers 1st Federal Credit Union\\t5000 Marketplace Way Enola, PA 17025 (717) 506-4809\\t4419\\nMerchants Bank of Indiana\\tMerchants Bank of India 410 Monon Boulevard Carmel, IN 46032 (317) 805-4308\\t4420\\nMichigan Mutual, Inc.\\t800 Michigan Street Port Huron, MI 48060 (810) 982-9948\\t4097\\nMidfirst Bank\\t999 NW Grand Boulevard Oklahoma City, OK 73118 (405) 426-1513\\t3162\\nMid-Island Mortgage Corp\\t900 Merchants Concourse Suite 406 Westbury, NY 11590-5116 (516) 683-0600\\t1770\\n\\n\\n\\n\\n\\nMission Loans, LLC\\t5 Park Plaza Suite 900 Irvine, CA 92614 (949) 877-8373\\t4089\\nMLD Mortage, Inc.\\t30 B Vreeland Road Suite 200 Florham Park, NJ 07932 (973) 805-6459\\t4452\\nMoria Development, Inc. DBA Peoples Mortgage Company\\t3215 West Ray Road Chandler, AZ 85226 (480) 237-8132\\t4367\\nMortgage Access Corp. dba Weichert Financial Services\\t1625 Route 10 East, Suite 1 Morris Plains, NJ 07950 973-490-8041\\t4356\\nMortgage Center, LC\\t26555 Evergreen Road Suite 900 Southfield, MI 48076 (428) 208-0624\\t4369\\nMortgage Clearing Corporation\\t5612 S. Lewis Tulsa, OK 74105 (918) 749-2274\\t2150\\nMortgage Lenders Investment Trading Corporation\\t2700 Westhall Lane Suite 120 Maitland, FL 32751 (321) 397-4420 ext. 4402\\t4331\\nMortgage Management Consultants, Inc.\\t1008 W. Avenue M-4 Suite H Palmdale, CA 37067 (661) 949-2002\\t4064\\nMortgage Research Center, LLC\\t1400 Forum Boulevard Columbia, MO 65203 (573) 876-2600\\t4154\\nMortgage Solutions of Colorado, LLC\\t7450 Campus Drive Colorado Springs, CO 80920\\t4115\\n\\n\\n\\n\\n\\nMountain West Financial, Inc.\\t31 West Stuart Avenue Suite 200 Redlands, CA 92374 (909) 793-1500\\t4105\\nMovement Mortgage, LLC\\t841 Seahawk Circle Virginia Beach, VA 23452 (757) 227-3385\\t4196\\nMutual of Omaha Mortgage, Inc.\\t3131 Camino Del Rio N Saint Charles, IL 60175 (630) 432-6402\\t4438\\nMYCUMortgage, LLC\\t3560 Pentagon Boulevard Beavercreek, OH 45431 (877) 912-8009\\t4266\\nNations Direct Mortgage, LLC\\t18200 Von Karman Avenue Suite 250 Irvine, CA 92612-7159\\t4187\\nNations Lending Corporation\\t4 Summit Park Drive Suite 200 Independence, OH 44131 (877) 816-1220 ext. 3321\\t4297\\nNations Reliable Lending, LLC\\t4400 Post Oak Parkway Suite 1000 Houston, TX 77027 (713) 275-1361\\t4443\\nNationstar Mortgage, LLC\\t8950 Cypress Waters Boulevard Coppell, TX 75019 (972) 219-4453\\t4052\\nNationwide Mortgage Bankers, Inc.\\t3 Huntington Quadrangle Suite 403N Melville, NJ 11747 (216) 577-6208\\t4450\\nNavy Federal Credit Union\\t820 Follin Ln Vienna, VA 22180 (703) 206-4323\\t2272\\n\\n\\n\\n\\n\\nNBH Bank\\t7800 East Orchard Road Suite 300 Greenwood Village, CO 80111 (913) 998-7204\\t4400\\nNBKC Bank\\t8320 Ward Parkway Kansas City, MO 64114\\t4215\\nNeighborhood Loans, Inc.\\t1333 Butterfield Road Suite 600 Downers Grove, IL 60515 (630) 748-7473\\t4459\\nNetwork Capital Funding Corporation\\t7700 Irvine Center Drive Suite 300 Irvine, CA 92618 (949) 408-2854\\t4453\\nNetwork Funding, LP\\t9700 Richmond Avenue Suite 320 Houston, TX 77042 (713) 267-0100\\t4057\\nNew American Funding LLC\\t16808 Armstrong Avenue Suite 215 Irvine, CA 92606 (949) 825-8239\\t4236\\nNew Day Financial, LLC\\t8160 Maple Lawn Boulevard Fulton, MD 20759 (888) 268-5709\\t4073\\nNew Hampshire Housing Finance Authority\\t32 Constitution Drive Bedford, NH 03110\\t4121\\nNew Jersey Housing and Mortgage Finance Agency\\t637 South Clinton Avenue Trenton, NJ 08611 (609) 278-7546\\t4287\\nNew Mexico Mortgage Finance Authority\\t344 Fourth Street, S.W. Albuquerque, NM 87102 (505) 843-6880\\t3676\\n\\n\\n\\n\\n\\nNewRez LLC\\t11000 Virginia Drive Suite 125 Fort Washington, PA 19034 (484) 594-1284\\t4206\\nNexBank,\\t2515 McKinney Avenue Suite 1100 Dallas, TX 75201 (469) 362-8829\\t4310\\nNFM, Inc.\\t1190 Winterson Road Suite 300 Linthicum, MD 21090 (443) 451-3416\\t4365\\nNorcom Mortgage\\t139 Simsbury Road Avon, CT 06001\\t4119\\nNorth American Savings Bank, F.S.B.\\t12498 South 71 Highway Grandview, MO 64030 (816) 765-7272\\t3768\\nNorth Dakota Housing Finance Agency\\t2624 Vermont Avenue Bismarck, ND 58502-1535 (701) 328-8081\\t4093\\nNorthpointe Bank\\t3333 Deposit Drive, Northeast Grand Rrapids, MI 49546 (616) 974-8406\\t4379\\nNOVA Financial & Investment Corporation\\t6245 East Broadway Boulevard Suite 400 Tuscon, AZ 85711 (520) 618-2760\\t4362\\nNusenda Federal Credit Union\\t4100 Pan American Freeway Albuquerque, NM 87107\\t4156\\nNVR Mortgage Finance, Inc.\\t121 Hillpointe Drive Suite 100 Canonsburg, PA 15317 (412) 276-4225\\t3541\\n\\n\\n\\n\\n\\nOceanside Mortgage Company\\t615 Lacey Road Forked River, NJ 08731 (609) 971-8500\\t4261\\nOn Q Financial, Inc.\\t4800 N. Scottsdale Road Suite 4400 Scottsdale, AZ 85251 (480) 305-6216\\t4230\\nOriental Bank and Trust\\t1000 San Roberto Street San Juan, PR 00922 (787) 522-5220\\t3963\\nOriental Bank and Trust - Scotia Bank Legacy\\tPlaza Scotiabank 273 Ponce De Leon Avenue Hato Rey, PR 00917\\t3982\\nOrigin Bank\\t1511 Trenton Street Rushton, LA 71273 (601) 707-0013\\t4259\\nPanorama Mortgage Group, LLC\\t350 South Rampart Boulevard #310 Las Vegas, NV 89145 (708) 560-3025\\t4407\\nPennsylvania Housing Finance Agency\\t211 North Front Street Harrisburg, PA 17101 (717) 780-3891\\t4062\\nPennyMac Loan Services, LLC\\t6101 Condor Drive Suite 200 Moonpark, CA 91361\\t4094\\nPentagon Federal Credit Union\\t7490 Jones Branch Drive Tysons, VA 22102 (703) 838-1433\\t4417\\nPerl Mortgage, Inc.\\t2936 West Belmont Chicago, IL 60618 (773) 413-6217\\t4405\\n\\n\\n\\n\\n\\nPHH Mortgage Corporation\\t1 Mortgage Way Mt. Laurel, NJ 08054 (609) 439-6000\\t2397\\nPike Creek Mortgage Services, Inc.\\t2100 Drummond Plaza Newark, DE 19711 (302) 892-2811\\t4429\\nPlains Commerce Bank\\t3905 West 49th Street Sioux Falls, SD 57106 (605) 740-9401\\t4437\\nPlanet Home Lending, LLC\\t321 Research Parkway Meriden, CT 06450\\t4135\\nPlatinum Home Mortgage Corporation\\t2000 West Center Drive Suite East D403 Hoffman Estates, IL 60192 (847) 797-9500\\t3762\\nPlaza Home Mortgage, Inc.\\t6420 Sequence Drive Suite 200 San Diego, CA 92121 (858) 812-0315\\t4125\\nPNC Bank, N.A.\\t3232 Newmark Drive Miamisburg, OH 45342 (937) 910-1907\\t2572\\nPremier Mortgage Resources, LLC\\t3363 East Presidential Drive Suite # 200 Meridian, ID 83642 (801) 824-9028\\t4466\\nPrimary Residential Mortgage, Inc.\\t1480 North 2200 West Salt Lake City, UT 84116 (520) 875-8000\\t3743\\nPrimelending, A Plains Capital Company\\t1811 Preston Road Suite #900 Dallas, TX 75252\\t4104\\n\\n\\n\\n\\n\\nPRMG\\t1265 Corona Pointe Court 3rd Floor Corona, CA 92879 (951) 547-6309\\t4228\\nProvident Funding Associates, LP\\t700 Airport Boulevard Suite 30 Berlingame, CA 94010 (800) 696-8199\\t4038\\nPulte Mortgage, LLC\\t7390 S. Iola Street Englewood, CO 80112 (303) 740-8800\\t1977\\nRANLife, Inc.\\t9272 South 700 East Sandy, UT 84070 (801) 478-4593\\t4303\\nRegions Bank dba Regions Mortgage\\t7130 Goodlett Farms Parkway Cordova, TN 38016 (901) 580-2206\\t2532\\nReliance First Capital, LLC\\t201 Old Country Road Suite 205 Melville, NY 11747 (516) 422-8813\\t4318\\nReliant Bank\\t105 Continental Place Suite 300 Brentwood, TN 37027 (931) 588-9313\\t4434\\nRenasant Bank\\t209 Troy Street Tupelo, MS 38801 (205) 824-3841\\t4314\\nResidential Wholesale Mortgage Inc.\\t11234 El Camino Real Suite 100 San Diego, CA 92130 (858) 794-2155 (ext. 220)\\t4377\\n\\n\\n\\n\\n\\nRhode Island Housing and Mortgage Finance Corporation\\t44 Washington Street Providence, RI 02903 (401) 457-1234\\t4063\\nRight Start Mortgage, Inc.\\t3452 E. Foothill Boulevard Suite 700 Pasadena, CA 91107 (626) 739-5300\\t4114\\nRocket Mortgage, LLC\\t1050 Woodward Avenue Detroit, MI 48226 (313) 373-4470\\t4042\\nRocky Mountain Mortgage Company\\t2244 Trawood El Paso, TX 79935 (915) 593-3111\\t3072\\nRoyal Pacific Funding Corporation\\t3070 Bristol Street Suite 400 Costa Mesa, CA 92626 (657) 229-7005\\t4368\\nRuoff Home Mortgage\\t1110 E. Dupont Road Fort Wayne, IN 46825\\t4274\\nRushmore Loan Management Services, LLC\\t8616 Freeport Parkway Suite 100 Irvine, TX 75063 (212) 938-4848\\t4246\\nSEFCU Services, LLC (DBA) SEFCU Mortgage Services\\t700 Patroon Creek Boulevard Albany, NY 12206 (518) 783-1234\\t4291\\nSelect Portfolio Servicing, Inc.\\t3815 S. West Temple Salt Lake City, UT 84115 (801) 293-1883\\t3920\\nSelene Finance, LP\\t9990 Richmond Avenue Suite 400 South Houston, TX 77042 (713) 625-2000\\t4086\\n\\n\\n\\n\\n\\nServbank, SB\\t3201 Orchard Road Oswego, IL 60543 (510) 931-9313\\t4458\\nServiceMac, LLC\\t9726 Old Bailes Road Suite 200 Fort Hill, SC 29707 (803) 650-3413\\t4416\\nServion, Inc.\\t500 Main Street New Brighton, MN 55112 (651) 746-6430\\t4354\\nServis One, Inc. dba BSI Financial Services, Inc.\\t1425 Greenway Drive Suite 400 Irving, TX 75038 (814) 827-4761\\t3993\\nSFMC, LP\\t6800 Weiskopf Avenue Suite 200 McKinney, TX 75070 (469) 634-4451\\t4124\\nSierra Pacific Mortgage Company, Inc.\\t950 Glenn Drive Suite 150 Folsom, CA 95630 (916) 932-1745\\t4350\\nSIRVA Mortgage, Inc.\\t6200 Oak Tree Boulevard Suite 300 Independence, OH 44131 (216) 606-7811\\t4415\\nSiwell, Inc. DBA Capital Mortgage Services of Texas\\t4212 50th Street Lubbock, TX 79413-3810\\t4162\\nSmartfi Home Loans, LLC\\t3636 Noble Drive Suite 210 San Diego, CA 92122 (330) 867-1601\\t4431\\n\\n\\n\\n\\n\\nSouth State Bank\\t520 Gervais Street Columbia, SC 29201 (843) 529-5830\\t4280\\nSouth State Bank, National Association\\t3565 Piedmont Road Atlanta, GA 30305 (404) 418-0301\\t4436\\nSouthern Trust Mortgage, LLC\\t4433 Corporation Lane Suite 300 Virginia Beach, VA 23462\\t4127\\nSpecialized Loan Servicing, LLC\\t8742 Lucent Boulevard Suite 300 Highlands Ranch, CO 80129\\t4189\\nStandard Mortgage Corporation\\t701 Poydras Street Suite 300 Plaza One Shell Square New Orleans, LA 70139 (504) 569-3705\\t1699\\nState Employees Credit Union of Maryland, Inc.\\t971 Corporate Boulevard Linthicum, MD 21090 (410) 487-7678\\t4425\\nState Farm Bank, F.S.B.\\tOne State Farm Plaza Corporate E-6 Bloomington, IL 61710 (309) 766-5181\\t4399\\nStock Yards Bank and Trust Company\\t1040 East Main Street Louisville, KY 40206 (502) 259-2318\\t4448\\nStockton Mortgage Corporation\\t88 C. Michael Davenport Blvd. Frankfort, KY 40601 (502) 227-1100\\t4373\\nSummit Funding, Inc.\\t2135 Butano Drive Suite 150 Sacramento, CA 95825 (916) 571-3002\\t4179\\n\\n\\n\\n\\n\\nSun West Mortgage Company, Inc.\\t18303 Gridley Road Cerritos, CA 90703 (562) 326-5732\\t3350\\nSunflower Bank, N.A.\\t3025 Cortland Circle Salina, KS 67401 (785) 826-2271\\t4385\\nSunTrust Mortgage, Inc.\\t901 Semmes Avenue Richmond, VA 23224 (804) 291-0242\\t1864\\nSupreme Lending\\t14801 Quorum Drive Suite 300 Dallas, TX 75254 (972) 447-5675\\t4358\\nSusquehanna Bank\\t11155 Dolfield Boulevard Owings Mills, MD 21117 (717) 781-8625\\t4315\\nSWBC Mortgage Corporation\\t9311 San Pedro Suite 600 San Antonio, TX 78216 (210) 376-6125\\t4193\\nTalmer Bank & Trust\\t2301 West Big Beaver road Troy, MI 48084 (248) 498-2879\\t4335\\nTaylor Morrison Home Funding, Inc.\\t495 N Keller Road Suite 500 Maitland, FL 32751 (202) 728-4461\\t3075\\nTD Bank National Association\\t12000 Horizon Way Mt. Laurel, NJ 08054 (856) 787-2988\\t4454\\nTennessee Housing Development Agency\\t502 Deaderick Street Andrew Jackson Building Nashville, TN 37243 (615) 815-2102\\t4446\\n\\n\\n\\n\\n\\nTexas Capital Bank\\t2350 Lakeside Boulevard Richardson, TX 75082 (972) 656-6524\\t4353\\nThe Central Trust Bank\\t700A Southwest Blvd. Jefferson City, MO 65109 (573) 644-7654\\t4463\\nThe Federal Savings Bank\\t4120 West Diversey Suite C501 Chicago, IL 60639 (312) 738-8400\\t4390\\nThe Money House, Inc.\\t52 Calle Paseo Covandongo San Juan, PR 00901 (918) 829-6322\\t4324\\nThe Money Source, Inc.\\t3138 East Elwood Street Phoenix, AZ 85034\\t4102\\nThe Mortgage House, Inc.\\tAve. Monserrate AB#20 VA Arriba Heights Carolina, PR 00983\\t3979\\nThrive Mortgage, LLC\\t4819 Williams Drive Georgetown, TX 78633 (972) 431-2189\\t4375\\nTidewater Mortgage Services, Inc.\\t200 Golden Oak Court Suite 100 Virginia Beach, VA 23452 (757) 498-7400\\t4360\\nTotal Mortgage Services\\t185 Plains Road Milford, CT 06461 (203) 876-2200\\t4245\\nTown and Country Bank\\t3601 Wabash Avenue Springfield, IL 62704 (217) 787-3100\\t2693\\n\\n\\n\\n\\n\\nTowne Mortgage Company\\t700 Tower Drive, Suite 1 Troy, MI 48098 (248) 247-1818\\t3458\\nTriad Bank, N.A.\\t7666 East 61st Street Suite 150 Tulsa, OK 74133 (918) 254-1444\\t3306\\nTruhome Solutions, LLC\\t9106 Legler Road Lenexa, KS 66219 (913) 998-6828\\t4144\\nTruist Bank\\t.O. Box 408 Greenville, SC 29602 (864) 242-8501\\t2559\\nTrustmark National Bank\\t246 East Capitol Street Jackson, MS 39205 (601) 354-5191\\t3177\\nU.S. Bank, N.A.\\t9380 Excelsior Boulevard Hopkins, MN 55343 (270) 689-8494\\t2094\\nUmpqua Bank\\t6610 SW Cardinal Lane Suite 300 Tigard, OR 97224-7186\\t4177\\nUnion Home Mortgage Corporation\\t8241 Dow Circle West Strongsville, OH 44136 (440) 234-4300\\t3219\\nUnited Community Bank\\t125 E Broad Street Greenville, SC 29601 (864) 250-7680\\t4449\\nUnited Mortgage Corp.\\t401 Broadhollow Road Suite 150 Melvile, NY 11747 631-724-7072\\t4185\\n\\n\\n\\n\\n\\nUnited Security Financial\\t930 East 6600 South Murray, UT 84107 (801) 262-2600\\t4070\\nUnited Wholesale Mortgages, LLC\\t770 South Adams Suite 300 Birmingham, MI 48009 (248) 594-8916\\t3725\\nUniversal Lending Corporation\\t6775 East Evans Avenue Denver, CO 80224 (303) 758-4969\\t3032\\nUniversity Bank\\t2015 Washtenaw Avenue Ann Arbor, MI 48104 (248) 254-8534\\t4444\\nUnivest Bank and Trust Co.\\t14 North Main Street Souderton, PA 18964 (267) 695-3996\\t4403\\nUSAA Federal Savings Bank\\t10750 Mcdermott Freeway Bk-D02n San Antonio, TX 78288 (210) 498-7704\\t3536\\nUtah Housing Corporation\\t2479 S. Lake Park Boulevard West Valley City, UT 84120 (801) 902-8200\\t4061\\nV.I.P. Mortgage, Inc.\\t4900 N. Scottsdale Road Suite 6000 Scottsdale, AZ 85251 (480) 776-2957\\t4233\\nVanderbilt Mortgage and Finance, Inc.\\t500 Alcoa Trail Maryville, TN 37804 (865) 380-3000\\t4139\\nVanDyk Mortgage Corporation\\t2449 Camelot Court South East Grand Rapids, MI 49546 (616) 974-9280\\t4293\\n\\n\\n\\n\\n\\nVillage Capital & Investment, LLC\\t2550 Paseo Verde Parkway Suite 100 Henderson, NV 89074 (856) 206-0421\\t4058\\nVirginia Housing Development Authority\\t601 South Belvidere Street Richmond, VA 23220\\t4060\\nWallick and Volk, Inc.\\t222 East 18th Street Chenenne, WY 82001 (307) 771-8335\\t4201\\nWatermark Capital, Inc.\\t100 Spectrum Center Drive Suite 520 Irvine, CA 92618 (949) 577-9374\\t4410\\nWaterstone Mortgage Corporation\\t1133 Quail Court Avenue Pewaukee, WI 53072 (262) 264-5806\\t4264\\nWebster Bank, N.A.\\t609 West Johnson Avenue Cheshire, CT 06410 (203) 271-7348\\t3908\\nWells Fargo Bank, N.A.\\t1 Home Campus Mac X2501-042 Des Moines, IA 50328 (800) 416-1472\\t3355\\nWest Gate Bank\\t6003 Old Cheney Road Lincoln, NE 68516 (531) 289-3823\\t4464\\nWest Virginia Housing Development Fund\\t814 Virginia Street East Charleston, WV 25301 (304) 345-8953\\t3800\\nWeststar Mortgage Corporation\\t2155 Louisianna Boulevard, NE Suite 8000 Albuquerque, NM 87110 (505) 883-0332\\t4004\\n\\n\\n\\n\\n\\nWintrust Mortgage\\t9700 West Higgins Road Suite 300 Rosemont, IL 60018 (847) 939-9425\\t4289\\nWisconsin Housing and Economic Development Authority\\t201 West Washington Avenue Madison, WI 53703\\t4087\\nWyoming Community Development Authority\\t155 North Beech Street Casper, WY 82601 (307) 265-0603\\t4242\\n\\n\\n\""
      ]
     },
     "execution_count": 16,
     "metadata": {},
     "output_type": "execute_result"
    }
   ],
   "source": [
    "document.text"
   ]
  },
  {
   "cell_type": "code",
   "execution_count": 17,
   "metadata": {},
   "outputs": [
    {
     "data": {
      "text/plain": [
       "[Table\n",
       " Rows - 8\n",
       " Columns - 3\n",
       " Cells - 24\n",
       " Merged Cells - 0,\n",
       " Table\n",
       " Rows - 9\n",
       " Columns - 3\n",
       " Cells - 27\n",
       " Merged Cells - 0,\n",
       " Table\n",
       " Rows - 9\n",
       " Columns - 3\n",
       " Cells - 27\n",
       " Merged Cells - 0,\n",
       " Table\n",
       " Rows - 9\n",
       " Columns - 3\n",
       " Cells - 27\n",
       " Merged Cells - 0,\n",
       " Table\n",
       " Rows - 9\n",
       " Columns - 3\n",
       " Cells - 27\n",
       " Merged Cells - 0,\n",
       " Table\n",
       " Rows - 9\n",
       " Columns - 3\n",
       " Cells - 27\n",
       " Merged Cells - 0,\n",
       " Table\n",
       " Rows - 10\n",
       " Columns - 3\n",
       " Cells - 30\n",
       " Merged Cells - 0,\n",
       " Table\n",
       " Rows - 9\n",
       " Columns - 3\n",
       " Cells - 27\n",
       " Merged Cells - 0,\n",
       " Table\n",
       " Rows - 9\n",
       " Columns - 3\n",
       " Cells - 27\n",
       " Merged Cells - 0,\n",
       " Table\n",
       " Rows - 9\n",
       " Columns - 3\n",
       " Cells - 27\n",
       " Merged Cells - 0,\n",
       " Table\n",
       " Rows - 10\n",
       " Columns - 3\n",
       " Cells - 30\n",
       " Merged Cells - 0,\n",
       " Table\n",
       " Rows - 10\n",
       " Columns - 3\n",
       " Cells - 30\n",
       " Merged Cells - 0,\n",
       " Table\n",
       " Rows - 10\n",
       " Columns - 3\n",
       " Cells - 30\n",
       " Merged Cells - 0,\n",
       " Table\n",
       " Rows - 9\n",
       " Columns - 3\n",
       " Cells - 27\n",
       " Merged Cells - 0,\n",
       " Table\n",
       " Rows - 9\n",
       " Columns - 3\n",
       " Cells - 27\n",
       " Merged Cells - 0,\n",
       " Table\n",
       " Rows - 10\n",
       " Columns - 3\n",
       " Cells - 30\n",
       " Merged Cells - 0,\n",
       " Table\n",
       " Rows - 9\n",
       " Columns - 3\n",
       " Cells - 27\n",
       " Merged Cells - 0,\n",
       " Table\n",
       " Rows - 10\n",
       " Columns - 3\n",
       " Cells - 30\n",
       " Merged Cells - 0,\n",
       " Table\n",
       " Rows - 10\n",
       " Columns - 3\n",
       " Cells - 30\n",
       " Merged Cells - 0,\n",
       " Table\n",
       " Rows - 10\n",
       " Columns - 3\n",
       " Cells - 30\n",
       " Merged Cells - 0,\n",
       " Table\n",
       " Rows - 9\n",
       " Columns - 3\n",
       " Cells - 27\n",
       " Merged Cells - 0,\n",
       " Table\n",
       " Rows - 10\n",
       " Columns - 3\n",
       " Cells - 30\n",
       " Merged Cells - 0,\n",
       " Table\n",
       " Rows - 10\n",
       " Columns - 3\n",
       " Cells - 30\n",
       " Merged Cells - 0,\n",
       " Table\n",
       " Rows - 10\n",
       " Columns - 3\n",
       " Cells - 30\n",
       " Merged Cells - 0,\n",
       " Table\n",
       " Rows - 10\n",
       " Columns - 3\n",
       " Cells - 30\n",
       " Merged Cells - 0,\n",
       " Table\n",
       " Rows - 10\n",
       " Columns - 3\n",
       " Cells - 30\n",
       " Merged Cells - 0,\n",
       " Table\n",
       " Rows - 10\n",
       " Columns - 3\n",
       " Cells - 30\n",
       " Merged Cells - 0,\n",
       " Table\n",
       " Rows - 9\n",
       " Columns - 3\n",
       " Cells - 27\n",
       " Merged Cells - 0,\n",
       " Table\n",
       " Rows - 10\n",
       " Columns - 3\n",
       " Cells - 30\n",
       " Merged Cells - 0,\n",
       " Table\n",
       " Rows - 9\n",
       " Columns - 3\n",
       " Cells - 27\n",
       " Merged Cells - 0,\n",
       " Table\n",
       " Rows - 10\n",
       " Columns - 3\n",
       " Cells - 30\n",
       " Merged Cells - 0,\n",
       " Table\n",
       " Rows - 10\n",
       " Columns - 3\n",
       " Cells - 30\n",
       " Merged Cells - 0,\n",
       " Table\n",
       " Rows - 10\n",
       " Columns - 3\n",
       " Cells - 30\n",
       " Merged Cells - 0,\n",
       " Table\n",
       " Rows - 10\n",
       " Columns - 3\n",
       " Cells - 30\n",
       " Merged Cells - 0,\n",
       " Table\n",
       " Rows - 10\n",
       " Columns - 3\n",
       " Cells - 30\n",
       " Merged Cells - 0,\n",
       " Table\n",
       " Rows - 10\n",
       " Columns - 3\n",
       " Cells - 30\n",
       " Merged Cells - 0,\n",
       " Table\n",
       " Rows - 3\n",
       " Columns - 3\n",
       " Cells - 9\n",
       " Merged Cells - 0]"
      ]
     },
     "execution_count": 17,
     "metadata": {},
     "output_type": "execute_result"
    }
   ],
   "source": [
    "document.tables"
   ]
  },
  {
   "cell_type": "markdown",
   "metadata": {},
   "source": [
    "## Restore from File"
   ]
  },
  {
   "cell_type": "code",
   "execution_count": 18,
   "metadata": {},
   "outputs": [],
   "source": [
    "Path(\"doc.json\").write_text(json.dumps(document.response, indent=4, sort_keys=True))\n",
    "document2 = Document.open(\"doc.json\")"
   ]
  },
  {
   "cell_type": "code",
   "execution_count": 21,
   "metadata": {},
   "outputs": [],
   "source": [
    "outdir = Path(\"../temp/csv\")\n",
    "for i, table in enumerate(document.tables):\n",
    "    csv_file = outdir / f\"ginnieIssuers-{i+1}.csv\"\n",
    "    csv_file.parent.mkdir(parents=True, exist_ok=True)\n",
    "    csv_file.write_text(table.to_csv())"
   ]
  },
  {
   "cell_type": "code",
   "execution_count": null,
   "metadata": {},
   "outputs": [],
   "source": []
  }
 ],
 "metadata": {
  "kernelspec": {
   "display_name": "ocr-tools",
   "language": "python",
   "name": "python3"
  },
  "language_info": {
   "codemirror_mode": {
    "name": "ipython",
    "version": 3
   },
   "file_extension": ".py",
   "mimetype": "text/x-python",
   "name": "python",
   "nbconvert_exporter": "python",
   "pygments_lexer": "ipython3",
   "version": "3.12.2"
  }
 },
 "nbformat": 4,
 "nbformat_minor": 2
}
