{
 "cells": [
  {
   "cell_type": "code",
   "execution_count": 6,
   "id": "c5faf49e-d3ef-4d67-8dad-ea8069cbcccf",
   "metadata": {
    "tags": []
   },
   "outputs": [],
   "source": [
    "import ipyregulartable as rt"
   ]
  },
  {
   "cell_type": "code",
   "execution_count": 7,
   "id": "dcec09ba-7815-4045-9eb5-2b23bb6e940c",
   "metadata": {
    "tags": []
   },
   "outputs": [],
   "source": [
    "from ucimlrepo import fetch_ucirepo \n",
    "  \n",
    "# fetch dataset \n",
    "iris = fetch_ucirepo(id=53) \n",
    "  \n",
    "# data (as pandas dataframes) \n",
    "X = iris.data.features \n",
    "y = iris.data.targets "
   ]
  },
  {
   "cell_type": "code",
   "execution_count": 11,
   "id": "e66cf9c0-9297-4e94-b933-0facb10da047",
   "metadata": {
    "tags": []
   },
   "outputs": [
    {
     "data": {
      "application/vnd.jupyter.widget-view+json": {
       "model_id": "38067cff465a4d30ab1a646520a2c519",
       "version_major": 2,
       "version_minor": 0
      },
      "text/plain": [
       "RegularTableWidget()"
      ]
     },
     "execution_count": 11,
     "metadata": {},
     "output_type": "execute_result"
    }
   ],
   "source": [
    "rt.RegularTableWidget(X)"
   ]
  },
  {
   "cell_type": "code",
   "execution_count": 10,
   "id": "700b49f2-87fb-4308-8327-e6a3bb3fc96d",
   "metadata": {},
   "outputs": [
    {
     "data": {
      "application/vnd.jupyter.widget-view+json": {
       "model_id": "28d59945c1de474e92c4290dbeef066d",
       "version_major": 2,
       "version_minor": 0
      },
      "text/plain": [
       "RegularTableWidget()"
      ]
     },
     "metadata": {},
     "output_type": "display_data"
    }
   ],
   "source": [
    "display(w)"
   ]
  },
  {
   "cell_type": "code",
   "execution_count": null,
   "id": "49780245-8bb4-43be-902f-02aa1e2b8e3c",
   "metadata": {},
   "outputs": [],
   "source": []
  }
 ],
 "metadata": {
  "kernelspec": {
   "display_name": "Python 3 (ipykernel)",
   "language": "python",
   "name": "python3"
  },
  "language_info": {
   "codemirror_mode": {
    "name": "ipython",
    "version": 3
   },
   "file_extension": ".py",
   "mimetype": "text/x-python",
   "name": "python",
   "nbconvert_exporter": "python",
   "pygments_lexer": "ipython3",
   "version": "3.11.5"
  }
 },
 "nbformat": 4,
 "nbformat_minor": 5
}
