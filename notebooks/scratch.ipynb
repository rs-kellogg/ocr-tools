{
 "cells": [
  {
   "cell_type": "code",
   "execution_count": 18,
   "metadata": {},
   "outputs": [],
   "source": [
    "import tempfile\n",
    "import pandas as pd\n",
    "from pathlib import Path\n",
    "import fitz\n",
    "import pytesseract\n",
    "from PIL import Image\n"
   ]
  },
  {
   "cell_type": "code",
   "execution_count": 15,
   "metadata": {},
   "outputs": [],
   "source": [
    "pdf_file = Path(\"../temp/2020_2400.pdf\")\n",
    "page_images = list(Path(\"../temp\").glob(\"*.png\"))"
   ]
  },
  {
   "cell_type": "code",
   "execution_count": 21,
   "metadata": {},
   "outputs": [],
   "source": [
    "text = pytesseract.image_to_string(Image.open(page_images[0]), lang='ita')"
   ]
  },
  {
   "cell_type": "code",
   "execution_count": 22,
   "metadata": {},
   "outputs": [
    {
     "name": "stdout",
     "output_type": "stream",
     "text": [
      "riferimento alle relazioni di servizio acquisite in atti le dichiarazioni testimoniali non mostrano\n",
      "debolezze o sbavature e su alcuni punti particolari le annotazioni di PG riscontrano quanto detto dai\n",
      "testi, come quando riferiscono della mancanza di lesioni o minacce ai danni della Gala e delle\n",
      "rimostranze fatte dall’imputato nei confronti dei genitori per non aver ricevuto lo stesso trattamento\n",
      "delle sorelle in tema di divisione dei beni di famiglia ( 11\\8\\2020 ore 00,30), quando in data\n",
      "13\\5\\2020 ore 14,30 hanno trovato il prevenuto agitato e non aggressivo che reclamava una equa\n",
      "ripartizione del patrimonio familiare e che ricevevano dichiarazione da parte della Pezzurro\n",
      "Enrichetta circa il comportamento del fratello che aveva messo a soqquadro il garage e poi come dai\n",
      "militari constatato aveva riordinato tutto spontaneamente e in occasione dell’intervento del 9\n",
      "luglio 2020 ore 22:10 sollecitato da vicini di casa quando vi era stata una lite tra il padre e il\n",
      "prevenuto e i genitori riferivano ai CC che il figlio non era violento nei loro riguardi. Ancora in data\n",
      "11\\8\\2020 ore 00,15 i CC danno atto che sono intervenuti presso i Pezzurro, perche l’imputato\n",
      "aveva minacciato la madre e la sorella perché non gli avevano dato un ventilatore e che una volta\n",
      "\n",
      "ottenuto si portava a dormire in cantina dove i militari lo trovavano mentre dormiva e appariva\n",
      "tranquillo.\n",
      "\n",
      "Tali corrispondenze conferiscono conferma e riscontro a tanti punti delle deposizione delle parti\n",
      "offese che, come espresso nei passi riportati sopra, hanno sempre negato che l’imputato ha usato\n",
      "violenza nei confronti dei familiari , affermato che ha rivolto le richieste di danaro, non sempre\n",
      "soddisfatte, in modo civile solo innervosendosi talvolta per il rifiuto ricevuto e avviando una\n",
      "discussione per protestare contro il trattamento di favore avuto dalle sorelle nelle ripartizione di\n",
      "beni familiari da cui era stato escluso .\n",
      "\n",
      "Alla stregua delle risultanze istruttorie sicchè può ritenersi che in un contesto familiare in cui ,\n",
      "appreso dell’uso di sostanze stupefacenti da parte del prevenuto, i familiari avevano preso le\n",
      "distanze dalle sue richieste di danaro fattesi insistenti per la perdita del lavoro, ed in cui le sorelle\n",
      "più giovani hanno incominciato a preoccuparsi della sorte del fratello, i comportamenti del Pezzurro\n",
      "Antonio si sono concretizzati in molteplici minacce rivolte ora ad una sorella ora ad altri familiari,\n",
      "espresse in occasioni di discussioni familiari e anche discendenti dal disappunto di un diverso e\n",
      "sfavorevole trattamento economico in confronto alle sorelle preferite dai genitori nella divisione di\n",
      "beni .\n",
      "\n",
      "Le condotte di minaccia e di intemperanza verbale sono state poste in essere in poche occasioni nel\n",
      "periodo in cui il prevenuto è tornato a vivere a casa dei genitori dopo aver perso il lavoro e a seguito\n",
      "di una separazione dalla compagna e le espressioni minacciose sono state rivolte in tempi e modi\n",
      "diversi, ora nei confronti di una sorella , ora della madre o in momenti in cui , il 13\\5\\2020, la\n",
      "discussione ha visto partecipi tutti i componenti della famiglia ed alla presenza del teste Ciccarelli\n",
      "Giuseppe.\n",
      "\n",
      "Appare così chiaro alla luce delle risultanze istruttorie che la fattispecie di cui all’art 572 cp non\n",
      "trova riconoscimento , per episodicità delle condotte minacciose e del limitato periodo , Maggio —\n",
      "agosto in cui le intemperanze del prevenuto hanno impensierito i familiari e anche in\n",
      "considerazione del fatto che gli atteggiamenti oltraggiosi e minacciosi sono stati tati rivolti a\n",
      "persone diverse della famiglia alternativamente e senza determinare, come ben detto con\n",
      "convinzione dalle testi, una condizione di paura e intimorimento , tanto che pur di tenere in vita i\n",
      "\n",
      "9\n",
      "\n"
     ]
    }
   ],
   "source": []
  },
  {
   "cell_type": "code",
   "execution_count": null,
   "metadata": {},
   "outputs": [],
   "source": []
  }
 ],
 "metadata": {
  "kernelspec": {
   "display_name": "ocr-tools",
   "language": "python",
   "name": "python3"
  },
  "language_info": {
   "codemirror_mode": {
    "name": "ipython",
    "version": 3
   },
   "file_extension": ".py",
   "mimetype": "text/x-python",
   "name": "python",
   "nbconvert_exporter": "python",
   "pygments_lexer": "ipython3",
   "version": "3.11.6"
  }
 },
 "nbformat": 4,
 "nbformat_minor": 2
}
