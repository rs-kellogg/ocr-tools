{
 "cells": [
  {
   "cell_type": "code",
   "execution_count": 1,
   "id": "c5faf49e-d3ef-4d67-8dad-ea8069cbcccf",
   "metadata": {
    "tags": []
   },
   "outputs": [],
   "source": [
    "import solara\n",
    "from ipydatagrid import DataGrid\n",
    "from pathlib import Path\n",
    "import pandas as pd"
   ]
  },
  {
   "cell_type": "code",
   "execution_count": 2,
   "id": "2d4f635b-9ad3-4ee5-a911-f5dc41c40ba1",
   "metadata": {
    "tags": []
   },
   "outputs": [],
   "source": [
    "file = Path(\"../review-portal/review_portal/public/csv/page-0705-1.csv\")\n",
    "assert file.exists()"
   ]
  },
  {
   "cell_type": "code",
   "execution_count": 3,
   "id": "4db39f54-4f1a-4bfd-9d09-81d0f6e1cf13",
   "metadata": {
    "tags": []
   },
   "outputs": [
    {
     "data": {
      "text/html": [
       "<div>\n",
       "<style scoped>\n",
       "    .dataframe tbody tr th:only-of-type {\n",
       "        vertical-align: middle;\n",
       "    }\n",
       "\n",
       "    .dataframe tbody tr th {\n",
       "        vertical-align: top;\n",
       "    }\n",
       "\n",
       "    .dataframe thead th {\n",
       "        text-align: right;\n",
       "    }\n",
       "</style>\n",
       "<table border=\"1\" class=\"dataframe\">\n",
       "  <thead>\n",
       "    <tr style=\"text-align: right;\">\n",
       "      <th></th>\n",
       "      <th>0</th>\n",
       "      <th>1</th>\n",
       "      <th>2</th>\n",
       "    </tr>\n",
       "  </thead>\n",
       "  <tbody>\n",
       "    <tr>\n",
       "      <th>0</th>\n",
       "      <td>AEKYUNG FATS &amp; OILS PROCESSING</td>\n",
       "      <td>CO., LTD.</td>\n",
       "      <td>(556, W)</td>\n",
       "    </tr>\n",
       "    <tr>\n",
       "      <th>1</th>\n",
       "      <td>111-6, Sokong-dong Chung-ku,</td>\n",
       "      <td>Seoul</td>\n",
       "      <td>(24-1861/6)</td>\n",
       "    </tr>\n",
       "    <tr>\n",
       "      <th>2</th>\n",
       "      <td>I.P.O. BOX: 1402, Seoul</td>\n",
       "      <td>EXPORTS IN 1969:</td>\n",
       "      <td>209,048</td>\n",
       "    </tr>\n",
       "    <tr>\n",
       "      <th>3</th>\n",
       "      <td>CABLE ADD.: AEKYUNGOIL</td>\n",
       "      <td>TARGET IN 1970:</td>\n",
       "      <td>332,000</td>\n",
       "    </tr>\n",
       "  </tbody>\n",
       "</table>\n",
       "</div>"
      ],
      "text/plain": [
       "                                0                 1            2\n",
       "0  AEKYUNG FATS & OILS PROCESSING         CO., LTD.     (556, W)\n",
       "1    111-6, Sokong-dong Chung-ku,             Seoul  (24-1861/6)\n",
       "2         I.P.O. BOX: 1402, Seoul  EXPORTS IN 1969:      209,048\n",
       "3          CABLE ADD.: AEKYUNGOIL   TARGET IN 1970:      332,000"
      ]
     },
     "execution_count": 3,
     "metadata": {},
     "output_type": "execute_result"
    }
   ],
   "source": [
    "df = pd.read_csv(file)\n",
    "df"
   ]
  },
  {
   "cell_type": "code",
   "execution_count": null,
   "id": "f368c499-c796-4e6f-8602-01353f1a40eb",
   "metadata": {
    "tags": []
   },
   "outputs": [],
   "source": [
    "# def cell_observer_factory(grid):\n",
    "#     def cell_changed(e):\n",
    "#         print(e)\n",
    "#         grid.set_cell_value(e['column'], e['row'], 0)\n",
    "#         print(grid.data)\n",
    "#     return cell_changed\n",
    "\n",
    "\n",
    "# @solara.component\n",
    "# def datagrid(file):\n",
    "#     df = pd.read_csv(file)\n",
    "#     grid = DataGrid(df, editable=True)\n",
    "#     grid.on_cell_change(cell_observer_factory(grid))"
   ]
  },
  {
   "cell_type": "code",
   "execution_count": 4,
   "id": "b8a4bde7-8643-46f9-b64b-340234071797",
   "metadata": {
    "tags": []
   },
   "outputs": [],
   "source": [
    "# datagrid(file)"
   ]
  },
  {
   "cell_type": "code",
   "execution_count": 5,
   "id": "edcf3c7c-f482-4b87-94b2-994809d4f1c2",
   "metadata": {},
   "outputs": [],
   "source": [
    "def cell_observer_factory(grid):\n",
    "    def cell_changed(e):\n",
    "        print(e)\n",
    "        # grid.set_cell_value(e['column'], e['row'], 0)\n",
    "        # print(grid.data)\n",
    "    return cell_changed\n",
    "\n",
    "        \n",
    "def datagrid(file):\n",
    "    df = pd.read_csv(file)\n",
    "    grid = DataGrid(df, editable=True)\n",
    "    grid.on_cell_change(cell_observer_factory(grid))\n",
    "    return grid"
   ]
  },
  {
   "cell_type": "code",
   "execution_count": 6,
   "id": "0e2e4d9b-2ac3-470e-8916-0cca60da3cbd",
   "metadata": {
    "tags": []
   },
   "outputs": [
    {
     "data": {
      "application/vnd.jupyter.widget-view+json": {
       "model_id": "5e8f98863bd34b38a88ae40fa18ddfed",
       "version_major": 2,
       "version_minor": 0
      },
      "text/plain": [
       "DataGrid(auto_fit_params={'area': 'all', 'padding': 30, 'numCols': None}, corner_renderer=None, default_render…"
      ]
     },
     "metadata": {},
     "output_type": "display_data"
    }
   ],
   "source": [
    "grid = datagrid(file)\n",
    "display(grid)"
   ]
  },
  {
   "cell_type": "code",
   "execution_count": null,
   "id": "483703d3-f333-47d0-b3a7-62f5bd3046e2",
   "metadata": {},
   "outputs": [],
   "source": []
  }
 ],
 "metadata": {
  "kernelspec": {
   "display_name": "Python 3 (ipykernel)",
   "language": "python",
   "name": "python3"
  },
  "language_info": {
   "codemirror_mode": {
    "name": "ipython",
    "version": 3
   },
   "file_extension": ".py",
   "mimetype": "text/x-python",
   "name": "python",
   "nbconvert_exporter": "python",
   "pygments_lexer": "ipython3",
   "version": "3.11.5"
  }
 },
 "nbformat": 4,
 "nbformat_minor": 5
}
