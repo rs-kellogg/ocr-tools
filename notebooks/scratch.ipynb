{
 "cells": [
  {
   "cell_type": "code",
   "execution_count": 12,
   "id": "483703d3-f333-47d0-b3a7-62f5bd3046e2",
   "metadata": {},
   "outputs": [],
   "source": [
    "import numpy as np\n",
    "import polars as pl\n",
    "import datetime as dt"
   ]
  },
  {
   "cell_type": "code",
   "execution_count": 3,
   "id": "2b362194-c342-43e5-b0e3-3f7bb55cb4d1",
   "metadata": {
    "tags": []
   },
   "outputs": [
    {
     "data": {
      "text/html": [
       "<div><style>\n",
       ".dataframe > thead > tr > th,\n",
       ".dataframe > tbody > tr > td {\n",
       "  text-align: right;\n",
       "  white-space: pre-wrap;\n",
       "}\n",
       "</style>\n",
       "<small>shape: (0, 4)</small><table border=\"1\" class=\"dataframe\"><thead><tr><th>file</th><th>status</th><th>note</th><th>timestamp</th></tr><tr><td>str</td><td>str</td><td>str</td><td>str</td></tr></thead><tbody></tbody></table></div>"
      ],
      "text/plain": [
       "shape: (0, 4)\n",
       "┌──────┬────────┬──────┬───────────┐\n",
       "│ file ┆ status ┆ note ┆ timestamp │\n",
       "│ ---  ┆ ---    ┆ ---  ┆ ---       │\n",
       "│ str  ┆ str    ┆ str  ┆ str       │\n",
       "╞══════╪════════╪══════╪═══════════╡\n",
       "└──────┴────────┴──────┴───────────┘"
      ]
     },
     "execution_count": 3,
     "metadata": {},
     "output_type": "execute_result"
    }
   ],
   "source": [
    "df = pl.DataFrame(\n",
    "    {\n",
    "        \"file\": [],\n",
    "        \"status\": [],\n",
    "        \"note\": [],\n",
    "        \"timestamp\": []\n",
    "    },\n",
    "    schema = {\n",
    "        \"file\": str,\n",
    "        \"status\": str,\n",
    "        \"note\": str,\n",
    "        \"timestamp\": str\n",
    "    }\n",
    ")\n",
    "df"
   ]
  },
  {
   "cell_type": "markdown",
   "id": "af19906f-058b-498f-9261-da59607db04c",
   "metadata": {},
   "source": [
    "# Load from CSV file"
   ]
  },
  {
   "cell_type": "code",
   "execution_count": 9,
   "id": "6d844e58-23db-44a8-b406-0aa5a7fea2f9",
   "metadata": {
    "tags": []
   },
   "outputs": [
    {
     "data": {
      "text/html": [
       "<div><style>\n",
       ".dataframe > thead > tr > th,\n",
       ".dataframe > tbody > tr > td {\n",
       "  text-align: right;\n",
       "  white-space: pre-wrap;\n",
       "}\n",
       "</style>\n",
       "<small>shape: (0, 4)</small><table border=\"1\" class=\"dataframe\"><thead><tr><th>file</th><th>status</th><th>note</th><th>timestamp</th></tr><tr><td>str</td><td>str</td><td>str</td><td>str</td></tr></thead><tbody></tbody></table></div>"
      ],
      "text/plain": [
       "shape: (0, 4)\n",
       "┌──────┬────────┬──────┬───────────┐\n",
       "│ file ┆ status ┆ note ┆ timestamp │\n",
       "│ ---  ┆ ---    ┆ ---  ┆ ---       │\n",
       "│ str  ┆ str    ┆ str  ┆ str       │\n",
       "╞══════╪════════╪══════╪═══════════╡\n",
       "└──────┴────────┴──────┴───────────┘"
      ]
     },
     "execution_count": 9,
     "metadata": {},
     "output_type": "execute_result"
    }
   ],
   "source": [
    "df = pl.read_csv(\n",
    "    \"../review-portal/review_portal/public/review_status.csv\",\n",
    "    schema = {\n",
    "        \"file\": pl.Utf8, \"status\": pl.Utf8, \"note\": pl.Utf8, \"timestamp\":pl.Utf8\n",
    "    }\n",
    ")\n",
    "df"
   ]
  },
  {
   "cell_type": "markdown",
   "id": "b2095aa7-1aeb-423c-9abe-c9a7ca11249d",
   "metadata": {},
   "source": [
    "# Add a row"
   ]
  },
  {
   "cell_type": "code",
   "execution_count": 19,
   "id": "2364a57a-3540-41f2-8b91-c941a397fcd8",
   "metadata": {
    "tags": []
   },
   "outputs": [
    {
     "data": {
      "text/html": [
       "<div><style>\n",
       ".dataframe > thead > tr > th,\n",
       ".dataframe > tbody > tr > td {\n",
       "  text-align: right;\n",
       "  white-space: pre-wrap;\n",
       "}\n",
       "</style>\n",
       "<small>shape: (2, 4)</small><table border=\"1\" class=\"dataframe\"><thead><tr><th>file</th><th>status</th><th>note</th><th>timestamp</th></tr><tr><td>str</td><td>str</td><td>str</td><td>str</td></tr></thead><tbody><tr><td>&quot;file1&quot;</td><td>&quot;review&quot;</td><td>&quot;A note.&quot;</td><td>&quot;2023-10-07 17:…</td></tr><tr><td>&quot;file2&quot;</td><td>&quot;accept&quot;</td><td>&quot;Another note.&quot;</td><td>&quot;2023-10-07 17:…</td></tr></tbody></table></div>"
      ],
      "text/plain": [
       "shape: (2, 4)\n",
       "┌───────┬────────┬───────────────┬────────────────────────────┐\n",
       "│ file  ┆ status ┆ note          ┆ timestamp                  │\n",
       "│ ---   ┆ ---    ┆ ---           ┆ ---                        │\n",
       "│ str   ┆ str    ┆ str           ┆ str                        │\n",
       "╞═══════╪════════╪═══════════════╪════════════════════════════╡\n",
       "│ file1 ┆ review ┆ A note.       ┆ 2023-10-07 17:12:00.048993 │\n",
       "│ file2 ┆ accept ┆ Another note. ┆ 2023-10-07 17:13:32.692216 │\n",
       "└───────┴────────┴───────────────┴────────────────────────────┘"
      ]
     },
     "execution_count": 19,
     "metadata": {},
     "output_type": "execute_result"
    }
   ],
   "source": [
    "df_row = pl.DataFrame(\n",
    "    {\n",
    "        \"file\": [\"file2\"],\n",
    "        \"status\": [\"accept\"],\n",
    "        \"note\": [\"Another note.\"],\n",
    "        \"timestamp\": [str(dt.datetime.now())]\n",
    "    },\n",
    "    schema = {\n",
    "        \"file\": pl.Utf8, \"status\": pl.Utf8, \"note\": pl.Utf8, \"timestamp\":pl.Utf8\n",
    "    }\n",
    ")\n",
    "df = df.extend(df_row)\n",
    "df"
   ]
  },
  {
   "cell_type": "markdown",
   "id": "5565b904-f04c-4034-b714-41daef29b8ab",
   "metadata": {
    "tags": []
   },
   "source": [
    "# Test for a value"
   ]
  },
  {
   "cell_type": "code",
   "execution_count": 52,
   "id": "d6d0ab23-ec40-4765-b04a-e24d77a34044",
   "metadata": {
    "tags": []
   },
   "outputs": [
    {
     "data": {
      "text/plain": [
       "True"
      ]
     },
     "execution_count": 52,
     "metadata": {},
     "output_type": "execute_result"
    }
   ],
   "source": [
    "\"file1\" in df.select(pl.col(\"file\")).to_series()"
   ]
  },
  {
   "cell_type": "markdown",
   "id": "13d646f0-e205-4afe-ad5a-38c446480e0e",
   "metadata": {},
   "source": [
    "# Select a row"
   ]
  },
  {
   "cell_type": "code",
   "execution_count": 41,
   "id": "72ca6afc-3b3d-499a-ad09-8cab4eca5602",
   "metadata": {
    "tags": []
   },
   "outputs": [
    {
     "name": "stdout",
     "output_type": "stream",
     "text": [
      "{'file': 'file1', 'status': 'review', 'note': 'A note.', 'timestamp': '2023-10-07 17:12:00.048993'}\n"
     ]
    }
   ],
   "source": [
    "try:\n",
    "    row = df.row(by_predicate=pl.col(\"file\").is_in([\"file1\"]), named=True)\n",
    "    print(row)\n",
    "except pl.exceptions.NoRowsReturnedError as e:\n",
    "    print(e)"
   ]
  },
  {
   "cell_type": "markdown",
   "id": "8ef000ba-b28f-4031-a20e-8890d2316632",
   "metadata": {},
   "source": [
    "# Write to a CSV file"
   ]
  },
  {
   "cell_type": "code",
   "execution_count": 42,
   "id": "ea0a1570-48af-4015-8952-66087f6fdbfc",
   "metadata": {
    "tags": []
   },
   "outputs": [],
   "source": [
    "df.write_csv(\"scratch.csv\")"
   ]
  },
  {
   "cell_type": "code",
   "execution_count": null,
   "id": "1e05a7ae-8533-492e-84b8-c87a7d8693b7",
   "metadata": {},
   "outputs": [],
   "source": []
  }
 ],
 "metadata": {
  "kernelspec": {
   "display_name": "Python 3 (ipykernel)",
   "language": "python",
   "name": "python3"
  },
  "language_info": {
   "codemirror_mode": {
    "name": "ipython",
    "version": 3
   },
   "file_extension": ".py",
   "mimetype": "text/x-python",
   "name": "python",
   "nbconvert_exporter": "python",
   "pygments_lexer": "ipython3",
   "version": "3.11.5"
  }
 },
 "nbformat": 4,
 "nbformat_minor": 5
}
